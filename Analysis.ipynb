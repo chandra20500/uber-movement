{
  "nbformat": 4,
  "nbformat_minor": 0,
  "metadata": {
    "colab": {
      "name": "Untitled7.ipynb",
      "provenance": [],
      "collapsed_sections": [],
      "authorship_tag": "ABX9TyOO8c+929jGpncmY1fLDxsV",
      "include_colab_link": true
    },
    "kernelspec": {
      "name": "python3",
      "display_name": "Python 3"
    }
  },
  "cells": [
    {
      "cell_type": "markdown",
      "metadata": {
        "id": "view-in-github",
        "colab_type": "text"
      },
      "source": [
        "<a href=\"https://colab.research.google.com/github/chandra20500/uber-movement/blob/master/Analysis.ipynb\" target=\"_parent\"><img src=\"https://colab.research.google.com/assets/colab-badge.svg\" alt=\"Open In Colab\"/></a>"
      ]
    },
    {
      "cell_type": "code",
      "metadata": {
        "id": "fCRMmZ9328eo",
        "colab_type": "code",
        "colab": {
          "base_uri": "https://localhost:8080/",
          "height": 252
        },
        "outputId": "0d8bc416-0cd1-4d07-d39d-ef201592b5f2"
      },
      "source": [
        "!pip install PyDrive"
      ],
      "execution_count": null,
      "outputs": [
        {
          "output_type": "stream",
          "text": [
            "Requirement already satisfied: PyDrive in /usr/local/lib/python3.6/dist-packages (1.3.1)\n",
            "Requirement already satisfied: oauth2client>=4.0.0 in /usr/local/lib/python3.6/dist-packages (from PyDrive) (4.1.3)\n",
            "Requirement already satisfied: PyYAML>=3.0 in /usr/local/lib/python3.6/dist-packages (from PyDrive) (3.13)\n",
            "Requirement already satisfied: google-api-python-client>=1.2 in /usr/local/lib/python3.6/dist-packages (from PyDrive) (1.7.12)\n",
            "Requirement already satisfied: pyasn1>=0.1.7 in /usr/local/lib/python3.6/dist-packages (from oauth2client>=4.0.0->PyDrive) (0.4.8)\n",
            "Requirement already satisfied: pyasn1-modules>=0.0.5 in /usr/local/lib/python3.6/dist-packages (from oauth2client>=4.0.0->PyDrive) (0.2.8)\n",
            "Requirement already satisfied: six>=1.6.1 in /usr/local/lib/python3.6/dist-packages (from oauth2client>=4.0.0->PyDrive) (1.15.0)\n",
            "Requirement already satisfied: rsa>=3.1.4 in /usr/local/lib/python3.6/dist-packages (from oauth2client>=4.0.0->PyDrive) (4.6)\n",
            "Requirement already satisfied: httplib2>=0.9.1 in /usr/local/lib/python3.6/dist-packages (from oauth2client>=4.0.0->PyDrive) (0.17.4)\n",
            "Requirement already satisfied: uritemplate<4dev,>=3.0.0 in /usr/local/lib/python3.6/dist-packages (from google-api-python-client>=1.2->PyDrive) (3.0.1)\n",
            "Requirement already satisfied: google-auth>=1.4.1 in /usr/local/lib/python3.6/dist-packages (from google-api-python-client>=1.2->PyDrive) (1.17.2)\n",
            "Requirement already satisfied: google-auth-httplib2>=0.0.3 in /usr/local/lib/python3.6/dist-packages (from google-api-python-client>=1.2->PyDrive) (0.0.4)\n",
            "Requirement already satisfied: setuptools>=40.3.0 in /usr/local/lib/python3.6/dist-packages (from google-auth>=1.4.1->google-api-python-client>=1.2->PyDrive) (49.1.0)\n",
            "Requirement already satisfied: cachetools<5.0,>=2.0.0 in /usr/local/lib/python3.6/dist-packages (from google-auth>=1.4.1->google-api-python-client>=1.2->PyDrive) (4.1.1)\n"
          ],
          "name": "stdout"
        }
      ]
    },
    {
      "cell_type": "code",
      "metadata": {
        "id": "3aRIm6924fmx",
        "colab_type": "code",
        "colab": {}
      },
      "source": [
        "from pydrive.auth import GoogleAuth\n",
        "from pydrive.drive import GoogleDrive\n",
        "from google.colab import auth\n",
        "from oauth2client.client import GoogleCredentials"
      ],
      "execution_count": null,
      "outputs": []
    },
    {
      "cell_type": "code",
      "metadata": {
        "id": "UI9fnz814g02",
        "colab_type": "code",
        "colab": {}
      },
      "source": [
        "# Authenticate and create the PyDrive client.\n",
        "auth.authenticate_user()\n",
        "gauth = GoogleAuth()\n",
        "gauth.credentials = GoogleCredentials.get_application_default()\n",
        "drive = GoogleDrive(gauth)"
      ],
      "execution_count": null,
      "outputs": []
    },
    {
      "cell_type": "code",
      "metadata": {
        "id": "bHvtoNCd4zHz",
        "colab_type": "code",
        "colab": {}
      },
      "source": [
        "downloaded = drive.CreateFile({'id':\"1ENtSW3MmsT1xfHqd7o67rJhYrUeoyPKQ\"})   # replace the id with id of file you want to access\n",
        "downloaded.GetContentFile('banglore_time.csv')"
      ],
      "execution_count": null,
      "outputs": []
    },
    {
      "cell_type": "code",
      "metadata": {
        "id": "KWd4F03V44xs",
        "colab_type": "code",
        "colab": {}
      },
      "source": [
        "import pandas as pd\n",
        "df = pd.read_csv('banglore_time.csv')"
      ],
      "execution_count": null,
      "outputs": []
    },
    {
      "cell_type": "code",
      "metadata": {
        "id": "Q3B49TqJ7Ar0",
        "colab_type": "code",
        "colab": {}
      },
      "source": [
        "downloaded = drive.CreateFile({'id':\"1AWZh5WuwJYMVyHqizuLFGNImv9MtWh8y\"})   # replace the id with id of file you want to access\n",
        "downloaded.GetContentFile('wards.JSON')   "
      ],
      "execution_count": null,
      "outputs": []
    },
    {
      "cell_type": "code",
      "metadata": {
        "id": "mT75HQ687_7R",
        "colab_type": "code",
        "colab": {
          "base_uri": "https://localhost:8080/",
          "height": 474
        },
        "outputId": "01c9faff-1c2e-4643-ee30-75f9c619f2da"
      },
      "source": [
        "!pip install geopandas\n",
        "!pip install shapely"
      ],
      "execution_count": null,
      "outputs": [
        {
          "output_type": "stream",
          "text": [
            "Collecting geopandas\n",
            "\u001b[?25l  Downloading https://files.pythonhosted.org/packages/f7/a4/e66aafbefcbb717813bf3a355c8c4fc3ed04ea1dd7feb2920f2f4f868921/geopandas-0.8.1-py2.py3-none-any.whl (962kB)\n",
            "\r\u001b[K     |▍                               | 10kB 18.1MB/s eta 0:00:01\r\u001b[K     |▊                               | 20kB 1.7MB/s eta 0:00:01\r\u001b[K     |█                               | 30kB 2.2MB/s eta 0:00:01\r\u001b[K     |█▍                              | 40kB 2.6MB/s eta 0:00:01\r\u001b[K     |█▊                              | 51kB 2.0MB/s eta 0:00:01\r\u001b[K     |██                              | 61kB 2.2MB/s eta 0:00:01\r\u001b[K     |██▍                             | 71kB 2.4MB/s eta 0:00:01\r\u001b[K     |██▊                             | 81kB 2.7MB/s eta 0:00:01\r\u001b[K     |███                             | 92kB 2.9MB/s eta 0:00:01\r\u001b[K     |███▍                            | 102kB 2.7MB/s eta 0:00:01\r\u001b[K     |███▊                            | 112kB 2.7MB/s eta 0:00:01\r\u001b[K     |████                            | 122kB 2.7MB/s eta 0:00:01\r\u001b[K     |████▍                           | 133kB 2.7MB/s eta 0:00:01\r\u001b[K     |████▊                           | 143kB 2.7MB/s eta 0:00:01\r\u001b[K     |█████                           | 153kB 2.7MB/s eta 0:00:01\r\u001b[K     |█████▌                          | 163kB 2.7MB/s eta 0:00:01\r\u001b[K     |█████▉                          | 174kB 2.7MB/s eta 0:00:01\r\u001b[K     |██████▏                         | 184kB 2.7MB/s eta 0:00:01\r\u001b[K     |██████▌                         | 194kB 2.7MB/s eta 0:00:01\r\u001b[K     |██████▉                         | 204kB 2.7MB/s eta 0:00:01\r\u001b[K     |███████▏                        | 215kB 2.7MB/s eta 0:00:01\r\u001b[K     |███████▌                        | 225kB 2.7MB/s eta 0:00:01\r\u001b[K     |███████▉                        | 235kB 2.7MB/s eta 0:00:01\r\u001b[K     |████████▏                       | 245kB 2.7MB/s eta 0:00:01\r\u001b[K     |████████▌                       | 256kB 2.7MB/s eta 0:00:01\r\u001b[K     |████████▉                       | 266kB 2.7MB/s eta 0:00:01\r\u001b[K     |█████████▏                      | 276kB 2.7MB/s eta 0:00:01\r\u001b[K     |█████████▌                      | 286kB 2.7MB/s eta 0:00:01\r\u001b[K     |█████████▉                      | 296kB 2.7MB/s eta 0:00:01\r\u001b[K     |██████████▏                     | 307kB 2.7MB/s eta 0:00:01\r\u001b[K     |██████████▌                     | 317kB 2.7MB/s eta 0:00:01\r\u001b[K     |███████████                     | 327kB 2.7MB/s eta 0:00:01\r\u001b[K     |███████████▎                    | 337kB 2.7MB/s eta 0:00:01\r\u001b[K     |███████████▋                    | 348kB 2.7MB/s eta 0:00:01\r\u001b[K     |████████████                    | 358kB 2.7MB/s eta 0:00:01\r\u001b[K     |████████████▎                   | 368kB 2.7MB/s eta 0:00:01\r\u001b[K     |████████████▋                   | 378kB 2.7MB/s eta 0:00:01\r\u001b[K     |█████████████                   | 389kB 2.7MB/s eta 0:00:01\r\u001b[K     |█████████████▎                  | 399kB 2.7MB/s eta 0:00:01\r\u001b[K     |█████████████▋                  | 409kB 2.7MB/s eta 0:00:01\r\u001b[K     |██████████████                  | 419kB 2.7MB/s eta 0:00:01\r\u001b[K     |██████████████▎                 | 430kB 2.7MB/s eta 0:00:01\r\u001b[K     |██████████████▋                 | 440kB 2.7MB/s eta 0:00:01\r\u001b[K     |███████████████                 | 450kB 2.7MB/s eta 0:00:01\r\u001b[K     |███████████████▎                | 460kB 2.7MB/s eta 0:00:01\r\u001b[K     |███████████████▋                | 471kB 2.7MB/s eta 0:00:01\r\u001b[K     |████████████████                | 481kB 2.7MB/s eta 0:00:01\r\u001b[K     |████████████████▍               | 491kB 2.7MB/s eta 0:00:01\r\u001b[K     |████████████████▊               | 501kB 2.7MB/s eta 0:00:01\r\u001b[K     |█████████████████               | 512kB 2.7MB/s eta 0:00:01\r\u001b[K     |█████████████████▍              | 522kB 2.7MB/s eta 0:00:01\r\u001b[K     |█████████████████▊              | 532kB 2.7MB/s eta 0:00:01\r\u001b[K     |██████████████████              | 542kB 2.7MB/s eta 0:00:01\r\u001b[K     |██████████████████▍             | 552kB 2.7MB/s eta 0:00:01\r\u001b[K     |██████████████████▊             | 563kB 2.7MB/s eta 0:00:01\r\u001b[K     |███████████████████             | 573kB 2.7MB/s eta 0:00:01\r\u001b[K     |███████████████████▍            | 583kB 2.7MB/s eta 0:00:01\r\u001b[K     |███████████████████▊            | 593kB 2.7MB/s eta 0:00:01\r\u001b[K     |████████████████████            | 604kB 2.7MB/s eta 0:00:01\r\u001b[K     |████████████████████▍           | 614kB 2.7MB/s eta 0:00:01\r\u001b[K     |████████████████████▊           | 624kB 2.7MB/s eta 0:00:01\r\u001b[K     |█████████████████████           | 634kB 2.7MB/s eta 0:00:01\r\u001b[K     |█████████████████████▍          | 645kB 2.7MB/s eta 0:00:01\r\u001b[K     |█████████████████████▉          | 655kB 2.7MB/s eta 0:00:01\r\u001b[K     |██████████████████████▏         | 665kB 2.7MB/s eta 0:00:01\r\u001b[K     |██████████████████████▌         | 675kB 2.7MB/s eta 0:00:01\r\u001b[K     |██████████████████████▉         | 686kB 2.7MB/s eta 0:00:01\r\u001b[K     |███████████████████████▏        | 696kB 2.7MB/s eta 0:00:01\r\u001b[K     |███████████████████████▌        | 706kB 2.7MB/s eta 0:00:01\r\u001b[K     |███████████████████████▉        | 716kB 2.7MB/s eta 0:00:01\r\u001b[K     |████████████████████████▏       | 727kB 2.7MB/s eta 0:00:01\r\u001b[K     |████████████████████████▌       | 737kB 2.7MB/s eta 0:00:01\r\u001b[K     |████████████████████████▉       | 747kB 2.7MB/s eta 0:00:01\r\u001b[K     |█████████████████████████▏      | 757kB 2.7MB/s eta 0:00:01\r\u001b[K     |█████████████████████████▌      | 768kB 2.7MB/s eta 0:00:01\r\u001b[K     |█████████████████████████▉      | 778kB 2.7MB/s eta 0:00:01\r\u001b[K     |██████████████████████████▏     | 788kB 2.7MB/s eta 0:00:01\r\u001b[K     |██████████████████████████▌     | 798kB 2.7MB/s eta 0:00:01\r\u001b[K     |██████████████████████████▉     | 808kB 2.7MB/s eta 0:00:01\r\u001b[K     |███████████████████████████▎    | 819kB 2.7MB/s eta 0:00:01\r\u001b[K     |███████████████████████████▋    | 829kB 2.7MB/s eta 0:00:01\r\u001b[K     |████████████████████████████    | 839kB 2.7MB/s eta 0:00:01\r\u001b[K     |████████████████████████████▎   | 849kB 2.7MB/s eta 0:00:01\r\u001b[K     |████████████████████████████▋   | 860kB 2.7MB/s eta 0:00:01\r\u001b[K     |█████████████████████████████   | 870kB 2.7MB/s eta 0:00:01\r\u001b[K     |█████████████████████████████▎  | 880kB 2.7MB/s eta 0:00:01\r\u001b[K     |█████████████████████████████▋  | 890kB 2.7MB/s eta 0:00:01\r\u001b[K     |██████████████████████████████  | 901kB 2.7MB/s eta 0:00:01\r\u001b[K     |██████████████████████████████▎ | 911kB 2.7MB/s eta 0:00:01\r\u001b[K     |██████████████████████████████▋ | 921kB 2.7MB/s eta 0:00:01\r\u001b[K     |███████████████████████████████ | 931kB 2.7MB/s eta 0:00:01\r\u001b[K     |███████████████████████████████▎| 942kB 2.7MB/s eta 0:00:01\r\u001b[K     |███████████████████████████████▋| 952kB 2.7MB/s eta 0:00:01\r\u001b[K     |████████████████████████████████| 962kB 2.7MB/s eta 0:00:01\r\u001b[K     |████████████████████████████████| 972kB 2.7MB/s \n",
            "\u001b[?25hRequirement already satisfied: shapely in /usr/local/lib/python3.6/dist-packages (from geopandas) (1.7.0)\n",
            "Requirement already satisfied: pandas>=0.23.0 in /usr/local/lib/python3.6/dist-packages (from geopandas) (1.0.5)\n",
            "Collecting pyproj>=2.2.0\n",
            "\u001b[?25l  Downloading https://files.pythonhosted.org/packages/e5/c3/071e080230ac4b6c64f1a2e2f9161c9737a2bc7b683d2c90b024825000c0/pyproj-2.6.1.post1-cp36-cp36m-manylinux2010_x86_64.whl (10.9MB)\n",
            "\u001b[K     |████████████████████████████████| 10.9MB 18.2MB/s \n",
            "\u001b[?25hCollecting fiona\n",
            "\u001b[?25l  Downloading https://files.pythonhosted.org/packages/ec/20/4e63bc5c6e62df889297b382c3ccd4a7a488b00946aaaf81a118158c6f09/Fiona-1.8.13.post1-cp36-cp36m-manylinux1_x86_64.whl (14.7MB)\n",
            "\u001b[K     |████████████████████████████████| 14.7MB 312kB/s \n",
            "\u001b[?25hRequirement already satisfied: python-dateutil>=2.6.1 in /usr/local/lib/python3.6/dist-packages (from pandas>=0.23.0->geopandas) (2.8.1)\n",
            "Requirement already satisfied: pytz>=2017.2 in /usr/local/lib/python3.6/dist-packages (from pandas>=0.23.0->geopandas) (2018.9)\n",
            "Requirement already satisfied: numpy>=1.13.3 in /usr/local/lib/python3.6/dist-packages (from pandas>=0.23.0->geopandas) (1.18.5)\n",
            "Collecting cligj>=0.5\n",
            "  Downloading https://files.pythonhosted.org/packages/e4/be/30a58b4b0733850280d01f8bd132591b4668ed5c7046761098d665ac2174/cligj-0.5.0-py3-none-any.whl\n",
            "Requirement already satisfied: click<8,>=4.0 in /usr/local/lib/python3.6/dist-packages (from fiona->geopandas) (7.1.2)\n",
            "Requirement already satisfied: attrs>=17 in /usr/local/lib/python3.6/dist-packages (from fiona->geopandas) (19.3.0)\n",
            "Collecting munch\n",
            "  Downloading https://files.pythonhosted.org/packages/cc/ab/85d8da5c9a45e072301beb37ad7f833cd344e04c817d97e0cc75681d248f/munch-2.5.0-py2.py3-none-any.whl\n",
            "Requirement already satisfied: six>=1.7 in /usr/local/lib/python3.6/dist-packages (from fiona->geopandas) (1.15.0)\n",
            "Collecting click-plugins>=1.0\n",
            "  Downloading https://files.pythonhosted.org/packages/e9/da/824b92d9942f4e472702488857914bdd50f73021efea15b4cad9aca8ecef/click_plugins-1.1.1-py2.py3-none-any.whl\n",
            "Installing collected packages: pyproj, cligj, munch, click-plugins, fiona, geopandas\n",
            "Successfully installed click-plugins-1.1.1 cligj-0.5.0 fiona-1.8.13.post1 geopandas-0.8.1 munch-2.5.0 pyproj-2.6.1.post1\n",
            "Requirement already satisfied: shapely in /usr/local/lib/python3.6/dist-packages (1.7.0)\n"
          ],
          "name": "stdout"
        }
      ]
    },
    {
      "cell_type": "code",
      "metadata": {
        "id": "gQdQ2itI-Cvb",
        "colab_type": "code",
        "colab": {}
      },
      "source": [
        "import pandas as pd\n",
        "import geopandas as gpd\n",
        "import requests\n",
        "import shapely\n",
        "import matplotlib.pyplot as plt\n",
        "%matplotlib inline"
      ],
      "execution_count": null,
      "outputs": []
    },
    {
      "cell_type": "code",
      "metadata": {
        "id": "hRIrQ7Qx-HlZ",
        "colab_type": "code",
        "colab": {
          "base_uri": "https://localhost:8080/",
          "height": 195
        },
        "outputId": "b6b5c439-9c14-403c-90a8-f23bdf8f1fad"
      },
      "source": [
        "bglr=gpd.read_file('wards.JSON')\n",
        "bglr.head()"
      ],
      "execution_count": null,
      "outputs": [
        {
          "output_type": "execute_result",
          "data": {
            "text/html": [
              "<div>\n",
              "<style scoped>\n",
              "    .dataframe tbody tr th:only-of-type {\n",
              "        vertical-align: middle;\n",
              "    }\n",
              "\n",
              "    .dataframe tbody tr th {\n",
              "        vertical-align: top;\n",
              "    }\n",
              "\n",
              "    .dataframe thead th {\n",
              "        text-align: right;\n",
              "    }\n",
              "</style>\n",
              "<table border=\"1\" class=\"dataframe\">\n",
              "  <thead>\n",
              "    <tr style=\"text-align: right;\">\n",
              "      <th></th>\n",
              "      <th>WARD_NO</th>\n",
              "      <th>WARD_NAME</th>\n",
              "      <th>MOVEMENT_ID</th>\n",
              "      <th>DISPLAY_NAME</th>\n",
              "      <th>geometry</th>\n",
              "    </tr>\n",
              "  </thead>\n",
              "  <tbody>\n",
              "    <tr>\n",
              "      <th>0</th>\n",
              "      <td>2</td>\n",
              "      <td>Chowdeswari Ward</td>\n",
              "      <td>1</td>\n",
              "      <td>Unnamed Road, Bengaluru</td>\n",
              "      <td>MULTIPOLYGON (((77.59229 13.09720, 77.59094 13...</td>\n",
              "    </tr>\n",
              "    <tr>\n",
              "      <th>1</th>\n",
              "      <td>3</td>\n",
              "      <td>Atturu</td>\n",
              "      <td>2</td>\n",
              "      <td>9th Cross Bhel Layout, Adityanagar, Vidyaranya...</td>\n",
              "      <td>MULTIPOLYGON (((77.56862 13.12705, 77.57064 13...</td>\n",
              "    </tr>\n",
              "    <tr>\n",
              "      <th>2</th>\n",
              "      <td>4</td>\n",
              "      <td>Yelahanka Satellite Town</td>\n",
              "      <td>3</td>\n",
              "      <td>15th A Cross Road, Yelahanka Satellite Town, Y...</td>\n",
              "      <td>MULTIPOLYGON (((77.59094 13.09842, 77.59229 13...</td>\n",
              "    </tr>\n",
              "    <tr>\n",
              "      <th>3</th>\n",
              "      <td>51</td>\n",
              "      <td>Vijnanapura</td>\n",
              "      <td>4</td>\n",
              "      <td>SP Naidu Layout 4th Cross Street, SP Naidu Lay...</td>\n",
              "      <td>MULTIPOLYGON (((77.67683 13.01147, 77.67695 13...</td>\n",
              "    </tr>\n",
              "    <tr>\n",
              "      <th>4</th>\n",
              "      <td>53</td>\n",
              "      <td>Basavanapura</td>\n",
              "      <td>5</td>\n",
              "      <td>Medahalli Kadugodi Road, Bharathi Nagar, Krish...</td>\n",
              "      <td>MULTIPOLYGON (((77.72899 13.02061, 77.72994 13...</td>\n",
              "    </tr>\n",
              "  </tbody>\n",
              "</table>\n",
              "</div>"
            ],
            "text/plain": [
              "  WARD_NO  ...                                           geometry\n",
              "0       2  ...  MULTIPOLYGON (((77.59229 13.09720, 77.59094 13...\n",
              "1       3  ...  MULTIPOLYGON (((77.56862 13.12705, 77.57064 13...\n",
              "2       4  ...  MULTIPOLYGON (((77.59094 13.09842, 77.59229 13...\n",
              "3      51  ...  MULTIPOLYGON (((77.67683 13.01147, 77.67695 13...\n",
              "4      53  ...  MULTIPOLYGON (((77.72899 13.02061, 77.72994 13...\n",
              "\n",
              "[5 rows x 5 columns]"
            ]
          },
          "metadata": {
            "tags": []
          },
          "execution_count": 10
        }
      ]
    },
    {
      "cell_type": "code",
      "metadata": {
        "id": "RwhNEwys-Svi",
        "colab_type": "code",
        "colab": {
          "base_uri": "https://localhost:8080/",
          "height": 282
        },
        "outputId": "205d3bc7-ce33-41eb-b8b0-fb5b70a8e2a3"
      },
      "source": [
        "bglr.plot()"
      ],
      "execution_count": null,
      "outputs": [
        {
          "output_type": "execute_result",
          "data": {
            "text/plain": [
              "<matplotlib.axes._subplots.AxesSubplot at 0x7f21dec98b38>"
            ]
          },
          "metadata": {
            "tags": []
          },
          "execution_count": 11
        },
        {
          "output_type": "display_data",
          "data": {
            "image/png": "[encoded data removed]",
            "text/plain": [
              "<Figure size 432x288 with 1 Axes>"
            ]
          },
          "metadata": {
            "tags": [],
            "needs_background": "light"
          }
        }
      ]
    },
    {
      "cell_type": "code",
      "metadata": {
        "id": "KcBlDZIL-7aC",
        "colab_type": "code",
        "colab": {}
      },
      "source": [
        "from geopandas import GeoSeries\n",
        "from shapely.geometry import Polygon"
      ],
      "execution_count": null,
      "outputs": []
    },
    {
      "cell_type": "code",
      "metadata": {
        "id": "9VYAK_Aq--jQ",
        "colab_type": "code",
        "colab": {}
      },
      "source": [
        "bglr_c=bglr.copy()"
      ],
      "execution_count": null,
      "outputs": []
    },
    {
      "cell_type": "code",
      "metadata": {
        "id": "dOFy-m5OA-UF",
        "colab_type": "code",
        "colab": {
          "base_uri": "https://localhost:8080/",
          "height": 266
        },
        "outputId": "8a433c43-2b8a-4d0d-8c79-203a784513d5"
      },
      "source": [
        "bglr_c.geometry= bglr_c['geometry'].centroid\n",
        "bglr_c.head()"
      ],
      "execution_count": null,
      "outputs": [
        {
          "output_type": "stream",
          "text": [
            "/usr/local/lib/python3.6/dist-packages/ipykernel_launcher.py:1: UserWarning: Geometry is in a geographic CRS. Results from 'centroid' are likely incorrect. Use 'GeoSeries.to_crs()' to re-project geometries to a projected CRS before this operation.\n",
            "\n",
            "  \"\"\"Entry point for launching an IPython kernel.\n"
          ],
          "name": "stderr"
        },
        {
          "output_type": "execute_result",
          "data": {
            "text/html": [
              "<div>\n",
              "<style scoped>\n",
              "    .dataframe tbody tr th:only-of-type {\n",
              "        vertical-align: middle;\n",
              "    }\n",
              "\n",
              "    .dataframe tbody tr th {\n",
              "        vertical-align: top;\n",
              "    }\n",
              "\n",
              "    .dataframe thead th {\n",
              "        text-align: right;\n",
              "    }\n",
              "</style>\n",
              "<table border=\"1\" class=\"dataframe\">\n",
              "  <thead>\n",
              "    <tr style=\"text-align: right;\">\n",
              "      <th></th>\n",
              "      <th>WARD_NO</th>\n",
              "      <th>WARD_NAME</th>\n",
              "      <th>MOVEMENT_ID</th>\n",
              "      <th>DISPLAY_NAME</th>\n",
              "      <th>geometry</th>\n",
              "    </tr>\n",
              "  </thead>\n",
              "  <tbody>\n",
              "    <tr>\n",
              "      <th>0</th>\n",
              "      <td>2</td>\n",
              "      <td>Chowdeswari Ward</td>\n",
              "      <td>1</td>\n",
              "      <td>Unnamed Road, Bengaluru</td>\n",
              "      <td>POINT (77.58042 13.12171)</td>\n",
              "    </tr>\n",
              "    <tr>\n",
              "      <th>1</th>\n",
              "      <td>3</td>\n",
              "      <td>Atturu</td>\n",
              "      <td>2</td>\n",
              "      <td>9th Cross Bhel Layout, Adityanagar, Vidyaranya...</td>\n",
              "      <td>POINT (77.56004 13.10280)</td>\n",
              "    </tr>\n",
              "    <tr>\n",
              "      <th>2</th>\n",
              "      <td>4</td>\n",
              "      <td>Yelahanka Satellite Town</td>\n",
              "      <td>3</td>\n",
              "      <td>15th A Cross Road, Yelahanka Satellite Town, Y...</td>\n",
              "      <td>POINT (77.58393 13.09099)</td>\n",
              "    </tr>\n",
              "    <tr>\n",
              "      <th>3</th>\n",
              "      <td>51</td>\n",
              "      <td>Vijnanapura</td>\n",
              "      <td>4</td>\n",
              "      <td>SP Naidu Layout 4th Cross Street, SP Naidu Lay...</td>\n",
              "      <td>POINT (77.66957 13.00606)</td>\n",
              "    </tr>\n",
              "    <tr>\n",
              "      <th>4</th>\n",
              "      <td>53</td>\n",
              "      <td>Basavanapura</td>\n",
              "      <td>5</td>\n",
              "      <td>Medahalli Kadugodi Road, Bharathi Nagar, Krish...</td>\n",
              "      <td>POINT (77.71546 13.01685)</td>\n",
              "    </tr>\n",
              "  </tbody>\n",
              "</table>\n",
              "</div>"
            ],
            "text/plain": [
              "  WARD_NO  ...                   geometry\n",
              "0       2  ...  POINT (77.58042 13.12171)\n",
              "1       3  ...  POINT (77.56004 13.10280)\n",
              "2       4  ...  POINT (77.58393 13.09099)\n",
              "3      51  ...  POINT (77.66957 13.00606)\n",
              "4      53  ...  POINT (77.71546 13.01685)\n",
              "\n",
              "[5 rows x 5 columns]"
            ]
          },
          "metadata": {
            "tags": []
          },
          "execution_count": 15
        }
      ]
    },
    {
      "cell_type": "code",
      "metadata": {
        "id": "x_jtVH-lBEua",
        "colab_type": "code",
        "colab": {
          "base_uri": "https://localhost:8080/",
          "height": 554
        },
        "outputId": "25325f10-83aa-4752-98cd-28d73afed6b8"
      },
      "source": [
        "fig, ax = plt.subplots(figsize=(9,9))\n",
        "bglr.plot(color='grey',ax=ax)\n",
        "bglr_c.plot(color='red',ax=ax)"
      ],
      "execution_count": null,
      "outputs": [
        {
          "output_type": "execute_result",
          "data": {
            "text/plain": [
              "<matplotlib.axes._subplots.AxesSubplot at 0x7f21dbdb4518>"
            ]
          },
          "metadata": {
            "tags": []
          },
          "execution_count": 16
        },
        {
          "output_type": "display_data",
          "data": {
            "image/png": "[encoded data removed]",
            "text/plain": [
              "<Figure size 648x648 with 1 Axes>"
            ]
          },
          "metadata": {
            "tags": [],
            "needs_background": "light"
          }
        }
      ]
    },
    {
      "cell_type": "code",
      "metadata": {
        "id": "EmWLvLmjY3LQ",
        "colab_type": "code",
        "colab": {
          "base_uri": "https://localhost:8080/",
          "height": 195
        },
        "outputId": "1c8bb0db-d4ff-4b7b-d263-4850b7626b4b"
      },
      "source": [
        "bglr_5 = bglr_c.head()\n",
        "bglr_5"
      ],
      "execution_count": null,
      "outputs": [
        {
          "output_type": "execute_result",
          "data": {
            "text/html": [
              "<div>\n",
              "<style scoped>\n",
              "    .dataframe tbody tr th:only-of-type {\n",
              "        vertical-align: middle;\n",
              "    }\n",
              "\n",
              "    .dataframe tbody tr th {\n",
              "        vertical-align: top;\n",
              "    }\n",
              "\n",
              "    .dataframe thead th {\n",
              "        text-align: right;\n",
              "    }\n",
              "</style>\n",
              "<table border=\"1\" class=\"dataframe\">\n",
              "  <thead>\n",
              "    <tr style=\"text-align: right;\">\n",
              "      <th></th>\n",
              "      <th>WARD_NO</th>\n",
              "      <th>WARD_NAME</th>\n",
              "      <th>MOVEMENT_ID</th>\n",
              "      <th>DISPLAY_NAME</th>\n",
              "      <th>geometry</th>\n",
              "    </tr>\n",
              "  </thead>\n",
              "  <tbody>\n",
              "    <tr>\n",
              "      <th>0</th>\n",
              "      <td>2</td>\n",
              "      <td>Chowdeswari Ward</td>\n",
              "      <td>1</td>\n",
              "      <td>Unnamed Road, Bengaluru</td>\n",
              "      <td>POINT (77.58042 13.12171)</td>\n",
              "    </tr>\n",
              "    <tr>\n",
              "      <th>1</th>\n",
              "      <td>3</td>\n",
              "      <td>Atturu</td>\n",
              "      <td>2</td>\n",
              "      <td>9th Cross Bhel Layout, Adityanagar, Vidyaranya...</td>\n",
              "      <td>POINT (77.56004 13.10280)</td>\n",
              "    </tr>\n",
              "    <tr>\n",
              "      <th>2</th>\n",
              "      <td>4</td>\n",
              "      <td>Yelahanka Satellite Town</td>\n",
              "      <td>3</td>\n",
              "      <td>15th A Cross Road, Yelahanka Satellite Town, Y...</td>\n",
              "      <td>POINT (77.58393 13.09099)</td>\n",
              "    </tr>\n",
              "    <tr>\n",
              "      <th>3</th>\n",
              "      <td>51</td>\n",
              "      <td>Vijnanapura</td>\n",
              "      <td>4</td>\n",
              "      <td>SP Naidu Layout 4th Cross Street, SP Naidu Lay...</td>\n",
              "      <td>POINT (77.66957 13.00606)</td>\n",
              "    </tr>\n",
              "    <tr>\n",
              "      <th>4</th>\n",
              "      <td>53</td>\n",
              "      <td>Basavanapura</td>\n",
              "      <td>5</td>\n",
              "      <td>Medahalli Kadugodi Road, Bharathi Nagar, Krish...</td>\n",
              "      <td>POINT (77.71546 13.01685)</td>\n",
              "    </tr>\n",
              "  </tbody>\n",
              "</table>\n",
              "</div>"
            ],
            "text/plain": [
              "  WARD_NO  ...                   geometry\n",
              "0       2  ...  POINT (77.58042 13.12171)\n",
              "1       3  ...  POINT (77.56004 13.10280)\n",
              "2       4  ...  POINT (77.58393 13.09099)\n",
              "3      51  ...  POINT (77.66957 13.00606)\n",
              "4      53  ...  POINT (77.71546 13.01685)\n",
              "\n",
              "[5 rows x 5 columns]"
            ]
          },
          "metadata": {
            "tags": []
          },
          "execution_count": 17
        }
      ]
    },
    {
      "cell_type": "code",
      "metadata": {
        "id": "MBx5u1TAZNzU",
        "colab_type": "code",
        "colab": {}
      },
      "source": [
        "import geopy.distance"
      ],
      "execution_count": null,
      "outputs": []
    },
    {
      "cell_type": "code",
      "metadata": {
        "id": "ywxR3lx5mUfS",
        "colab_type": "code",
        "colab": {
          "base_uri": "https://localhost:8080/",
          "height": 296
        },
        "outputId": "87de0628-90c0-41fd-d330-7b37e8dfadde"
      },
      "source": [
        "bglr_5['dist_prev'] = 0\n",
        "bglr_5.head()"
      ],
      "execution_count": null,
      "outputs": [
        {
          "output_type": "stream",
          "text": [
            "/usr/local/lib/python3.6/dist-packages/geopandas/geodataframe.py:853: SettingWithCopyWarning: \n",
            "A value is trying to be set on a copy of a slice from a DataFrame.\n",
            "Try using .loc[row_indexer,col_indexer] = value instead\n",
            "\n",
            "See the caveats in the documentation: https://pandas.pydata.org/pandas-docs/stable/user_guide/indexing.html#returning-a-view-versus-a-copy\n",
            "  super(GeoDataFrame, self).__setitem__(key, value)\n"
          ],
          "name": "stderr"
        },
        {
          "output_type": "execute_result",
          "data": {
            "text/html": [
              "<div>\n",
              "<style scoped>\n",
              "    .dataframe tbody tr th:only-of-type {\n",
              "        vertical-align: middle;\n",
              "    }\n",
              "\n",
              "    .dataframe tbody tr th {\n",
              "        vertical-align: top;\n",
              "    }\n",
              "\n",
              "    .dataframe thead th {\n",
              "        text-align: right;\n",
              "    }\n",
              "</style>\n",
              "<table border=\"1\" class=\"dataframe\">\n",
              "  <thead>\n",
              "    <tr style=\"text-align: right;\">\n",
              "      <th></th>\n",
              "      <th>WARD_NO</th>\n",
              "      <th>WARD_NAME</th>\n",
              "      <th>MOVEMENT_ID</th>\n",
              "      <th>DISPLAY_NAME</th>\n",
              "      <th>geometry</th>\n",
              "      <th>dist_prev</th>\n",
              "    </tr>\n",
              "  </thead>\n",
              "  <tbody>\n",
              "    <tr>\n",
              "      <th>0</th>\n",
              "      <td>2</td>\n",
              "      <td>Chowdeswari Ward</td>\n",
              "      <td>1</td>\n",
              "      <td>Unnamed Road, Bengaluru</td>\n",
              "      <td>POINT (77.58042 13.12171)</td>\n",
              "      <td>0</td>\n",
              "    </tr>\n",
              "    <tr>\n",
              "      <th>1</th>\n",
              "      <td>3</td>\n",
              "      <td>Atturu</td>\n",
              "      <td>2</td>\n",
              "      <td>9th Cross Bhel Layout, Adityanagar, Vidyaranya...</td>\n",
              "      <td>POINT (77.56004 13.10280)</td>\n",
              "      <td>0</td>\n",
              "    </tr>\n",
              "    <tr>\n",
              "      <th>2</th>\n",
              "      <td>4</td>\n",
              "      <td>Yelahanka Satellite Town</td>\n",
              "      <td>3</td>\n",
              "      <td>15th A Cross Road, Yelahanka Satellite Town, Y...</td>\n",
              "      <td>POINT (77.58393 13.09099)</td>\n",
              "      <td>0</td>\n",
              "    </tr>\n",
              "    <tr>\n",
              "      <th>3</th>\n",
              "      <td>51</td>\n",
              "      <td>Vijnanapura</td>\n",
              "      <td>4</td>\n",
              "      <td>SP Naidu Layout 4th Cross Street, SP Naidu Lay...</td>\n",
              "      <td>POINT (77.66957 13.00606)</td>\n",
              "      <td>0</td>\n",
              "    </tr>\n",
              "    <tr>\n",
              "      <th>4</th>\n",
              "      <td>53</td>\n",
              "      <td>Basavanapura</td>\n",
              "      <td>5</td>\n",
              "      <td>Medahalli Kadugodi Road, Bharathi Nagar, Krish...</td>\n",
              "      <td>POINT (77.71546 13.01685)</td>\n",
              "      <td>0</td>\n",
              "    </tr>\n",
              "  </tbody>\n",
              "</table>\n",
              "</div>"
            ],
            "text/plain": [
              "  WARD_NO                 WARD_NAME  ...                   geometry dist_prev\n",
              "0       2          Chowdeswari Ward  ...  POINT (77.58042 13.12171)         0\n",
              "1       3                    Atturu  ...  POINT (77.56004 13.10280)         0\n",
              "2       4  Yelahanka Satellite Town  ...  POINT (77.58393 13.09099)         0\n",
              "3      51               Vijnanapura  ...  POINT (77.66957 13.00606)         0\n",
              "4      53              Basavanapura  ...  POINT (77.71546 13.01685)         0\n",
              "\n",
              "[5 rows x 6 columns]"
            ]
          },
          "metadata": {
            "tags": []
          },
          "execution_count": 19
        }
      ]
    },
    {
      "cell_type": "code",
      "metadata": {
        "id": "pmtN6c5Hmg3V",
        "colab_type": "code",
        "colab": {
          "base_uri": "https://localhost:8080/",
          "height": 128
        },
        "outputId": "276f1f2b-d902-4012-a028-da482fbd8ce3"
      },
      "source": [
        "j = 0\n",
        "matrix = pd.DataFrame()\n",
        "for i in bglr_5.index[:-1]:\n",
        "      matrix[] = bglr_5.loc[j, 'geometry'].distance(bglr_5.loc[i+1, 'geometry'])\n",
        "      j++"
      ],
      "execution_count": null,
      "outputs": [
        {
          "output_type": "error",
          "ename": "SyntaxError",
          "evalue": "ignored",
          "traceback": [
            "\u001b[0;36m  File \u001b[0;32m\"<ipython-input-18-adb81563b295>\"\u001b[0;36m, line \u001b[0;32m4\u001b[0m\n\u001b[0;31m    matrix[] = bglr_5.loc[j, 'geometry'].distance(bglr_5.loc[i+1, 'geometry'])\u001b[0m\n\u001b[0m           ^\u001b[0m\n\u001b[0;31mSyntaxError\u001b[0m\u001b[0;31m:\u001b[0m invalid syntax\n"
          ]
        }
      ]
    },
    {
      "cell_type": "code",
      "metadata": {
        "id": "aBBduTpW7W7a",
        "colab_type": "code",
        "colab": {}
      },
      "source": [
        "rows, cols = (5, 5) \n",
        "arr=[] \n",
        "for i in range(cols): \n",
        "    col = []\n",
        "    for j in range(rows):\n",
        "      temp =  bglr_5.loc[i, 'geometry'].distance(bglr_5.loc[j, 'geometry'])\n",
        "      col.append(temp) \n",
        "    arr.append(col)"
      ],
      "execution_count": null,
      "outputs": []
    },
    {
      "cell_type": "code",
      "metadata": {
        "id": "0yvn3AVW1tkI",
        "colab_type": "code",
        "colab": {
          "base_uri": "https://localhost:8080/",
          "height": 54
        },
        "outputId": "89fa4f7f-4931-4593-c7c7-30f235671dec"
      },
      "source": [
        "print(arr)"
      ],
      "execution_count": null,
      "outputs": [
        {
          "output_type": "stream",
          "text": [
            "[[0.0, 0.027801169333738034, 0.03092187145884794, 0.14601557220948552, 0.1709690176001336], [0.027801169333738034, 0.0, 0.026651289740539156, 0.14613425620691545, 0.1776055371126699], [0.03092187145884794, 0.026651289740539156, 0.0, 0.12060750680174391, 0.15098708015433807], [0.14601557220948552, 0.14613425620691545, 0.12060750680174391, 0.0, 0.047141153661510574], [0.1709690176001336, 0.1776055371126699, 0.15098708015433807, 0.047141153661510574, 0.0]]\n"
          ],
          "name": "stdout"
        }
      ]
    },
    {
      "cell_type": "code",
      "metadata": {
        "id": "T4aGWZV9Aduq",
        "colab_type": "code",
        "colab": {}
      },
      "source": [
        "data = pd.DataFrame(arr)"
      ],
      "execution_count": null,
      "outputs": []
    },
    {
      "cell_type": "code",
      "metadata": {
        "id": "_7WEr5lPAh2I",
        "colab_type": "code",
        "colab": {
          "base_uri": "https://localhost:8080/",
          "height": 195
        },
        "outputId": "b30564ad-5098-4aae-92eb-12b521a48261"
      },
      "source": [
        "data"
      ],
      "execution_count": null,
      "outputs": [
        {
          "output_type": "execute_result",
          "data": {
            "text/html": [
              "<div>\n",
              "<style scoped>\n",
              "    .dataframe tbody tr th:only-of-type {\n",
              "        vertical-align: middle;\n",
              "    }\n",
              "\n",
              "    .dataframe tbody tr th {\n",
              "        vertical-align: top;\n",
              "    }\n",
              "\n",
              "    .dataframe thead th {\n",
              "        text-align: right;\n",
              "    }\n",
              "</style>\n",
              "<table border=\"1\" class=\"dataframe\">\n",
              "  <thead>\n",
              "    <tr style=\"text-align: right;\">\n",
              "      <th></th>\n",
              "      <th>0</th>\n",
              "      <th>1</th>\n",
              "      <th>2</th>\n",
              "      <th>3</th>\n",
              "      <th>4</th>\n",
              "    </tr>\n",
              "  </thead>\n",
              "  <tbody>\n",
              "    <tr>\n",
              "      <th>0</th>\n",
              "      <td>0.000000</td>\n",
              "      <td>0.027801</td>\n",
              "      <td>0.030922</td>\n",
              "      <td>0.146016</td>\n",
              "      <td>0.170969</td>\n",
              "    </tr>\n",
              "    <tr>\n",
              "      <th>1</th>\n",
              "      <td>0.027801</td>\n",
              "      <td>0.000000</td>\n",
              "      <td>0.026651</td>\n",
              "      <td>0.146134</td>\n",
              "      <td>0.177606</td>\n",
              "    </tr>\n",
              "    <tr>\n",
              "      <th>2</th>\n",
              "      <td>0.030922</td>\n",
              "      <td>0.026651</td>\n",
              "      <td>0.000000</td>\n",
              "      <td>0.120608</td>\n",
              "      <td>0.150987</td>\n",
              "    </tr>\n",
              "    <tr>\n",
              "      <th>3</th>\n",
              "      <td>0.146016</td>\n",
              "      <td>0.146134</td>\n",
              "      <td>0.120608</td>\n",
              "      <td>0.000000</td>\n",
              "      <td>0.047141</td>\n",
              "    </tr>\n",
              "    <tr>\n",
              "      <th>4</th>\n",
              "      <td>0.170969</td>\n",
              "      <td>0.177606</td>\n",
              "      <td>0.150987</td>\n",
              "      <td>0.047141</td>\n",
              "      <td>0.000000</td>\n",
              "    </tr>\n",
              "  </tbody>\n",
              "</table>\n",
              "</div>"
            ],
            "text/plain": [
              "          0         1         2         3         4\n",
              "0  0.000000  0.027801  0.030922  0.146016  0.170969\n",
              "1  0.027801  0.000000  0.026651  0.146134  0.177606\n",
              "2  0.030922  0.026651  0.000000  0.120608  0.150987\n",
              "3  0.146016  0.146134  0.120608  0.000000  0.047141\n",
              "4  0.170969  0.177606  0.150987  0.047141  0.000000"
            ]
          },
          "metadata": {
            "tags": []
          },
          "execution_count": 57
        }
      ]
    },
    {
      "cell_type": "code",
      "metadata": {
        "id": "FA6cr9DdZn2q",
        "colab_type": "code",
        "colab": {}
      },
      "source": [
        "df.head()"
      ],
      "execution_count": null,
      "outputs": []
    },
    {
      "cell_type": "code",
      "metadata": {
        "id": "Dzncy0MlZtPP",
        "colab_type": "code",
        "colab": {
          "base_uri": "https://localhost:8080/",
          "height": 195
        },
        "outputId": "a8706f52-ab18-4b18-e9ab-97c80c1beb55"
      },
      "source": [
        "x = df[['sourceid','dstid','hod','mean_travel_time']]\n",
        "x.head()"
      ],
      "execution_count": null,
      "outputs": [
        {
          "output_type": "execute_result",
          "data": {
            "text/html": [
              "<div>\n",
              "<style scoped>\n",
              "    .dataframe tbody tr th:only-of-type {\n",
              "        vertical-align: middle;\n",
              "    }\n",
              "\n",
              "    .dataframe tbody tr th {\n",
              "        vertical-align: top;\n",
              "    }\n",
              "\n",
              "    .dataframe thead th {\n",
              "        text-align: right;\n",
              "    }\n",
              "</style>\n",
              "<table border=\"1\" class=\"dataframe\">\n",
              "  <thead>\n",
              "    <tr style=\"text-align: right;\">\n",
              "      <th></th>\n",
              "      <th>sourceid</th>\n",
              "      <th>dstid</th>\n",
              "      <th>hod</th>\n",
              "      <th>mean_travel_time</th>\n",
              "    </tr>\n",
              "  </thead>\n",
              "  <tbody>\n",
              "    <tr>\n",
              "      <th>0</th>\n",
              "      <td>88</td>\n",
              "      <td>33</td>\n",
              "      <td>12</td>\n",
              "      <td>2022.22</td>\n",
              "    </tr>\n",
              "    <tr>\n",
              "      <th>1</th>\n",
              "      <td>163</td>\n",
              "      <td>16</td>\n",
              "      <td>14</td>\n",
              "      <td>3159.21</td>\n",
              "    </tr>\n",
              "    <tr>\n",
              "      <th>2</th>\n",
              "      <td>160</td>\n",
              "      <td>46</td>\n",
              "      <td>14</td>\n",
              "      <td>3943.34</td>\n",
              "    </tr>\n",
              "    <tr>\n",
              "      <th>3</th>\n",
              "      <td>162</td>\n",
              "      <td>26</td>\n",
              "      <td>14</td>\n",
              "      <td>3193.64</td>\n",
              "    </tr>\n",
              "    <tr>\n",
              "      <th>4</th>\n",
              "      <td>84</td>\n",
              "      <td>73</td>\n",
              "      <td>12</td>\n",
              "      <td>801.05</td>\n",
              "    </tr>\n",
              "  </tbody>\n",
              "</table>\n",
              "</div>"
            ],
            "text/plain": [
              "   sourceid  dstid  hod  mean_travel_time\n",
              "0        88     33   12           2022.22\n",
              "1       163     16   14           3159.21\n",
              "2       160     46   14           3943.34\n",
              "3       162     26   14           3193.64\n",
              "4        84     73   12            801.05"
            ]
          },
          "metadata": {
            "tags": []
          },
          "execution_count": 21
        }
      ]
    },
    {
      "cell_type": "code",
      "metadata": {
        "id": "9SV2Da5FbClv",
        "colab_type": "code",
        "colab": {
          "base_uri": "https://localhost:8080/",
          "height": 195
        },
        "outputId": "26263ab2-3513-4aa4-c075-dd9b591f55fe"
      },
      "source": [
        "x.head()"
      ],
      "execution_count": null,
      "outputs": [
        {
          "output_type": "execute_result",
          "data": {
            "text/html": [
              "<div>\n",
              "<style scoped>\n",
              "    .dataframe tbody tr th:only-of-type {\n",
              "        vertical-align: middle;\n",
              "    }\n",
              "\n",
              "    .dataframe tbody tr th {\n",
              "        vertical-align: top;\n",
              "    }\n",
              "\n",
              "    .dataframe thead th {\n",
              "        text-align: right;\n",
              "    }\n",
              "</style>\n",
              "<table border=\"1\" class=\"dataframe\">\n",
              "  <thead>\n",
              "    <tr style=\"text-align: right;\">\n",
              "      <th></th>\n",
              "      <th>sourceid</th>\n",
              "      <th>dstid</th>\n",
              "      <th>hod</th>\n",
              "      <th>mean_travel_time</th>\n",
              "    </tr>\n",
              "  </thead>\n",
              "  <tbody>\n",
              "    <tr>\n",
              "      <th>0</th>\n",
              "      <td>88</td>\n",
              "      <td>33</td>\n",
              "      <td>12</td>\n",
              "      <td>2022.22</td>\n",
              "    </tr>\n",
              "    <tr>\n",
              "      <th>1</th>\n",
              "      <td>163</td>\n",
              "      <td>16</td>\n",
              "      <td>14</td>\n",
              "      <td>3159.21</td>\n",
              "    </tr>\n",
              "    <tr>\n",
              "      <th>2</th>\n",
              "      <td>160</td>\n",
              "      <td>46</td>\n",
              "      <td>14</td>\n",
              "      <td>3943.34</td>\n",
              "    </tr>\n",
              "    <tr>\n",
              "      <th>3</th>\n",
              "      <td>162</td>\n",
              "      <td>26</td>\n",
              "      <td>14</td>\n",
              "      <td>3193.64</td>\n",
              "    </tr>\n",
              "    <tr>\n",
              "      <th>4</th>\n",
              "      <td>84</td>\n",
              "      <td>73</td>\n",
              "      <td>12</td>\n",
              "      <td>801.05</td>\n",
              "    </tr>\n",
              "  </tbody>\n",
              "</table>\n",
              "</div>"
            ],
            "text/plain": [
              "   sourceid  dstid  hod  mean_travel_time\n",
              "0        88     33   12           2022.22\n",
              "1       163     16   14           3159.21\n",
              "2       160     46   14           3943.34\n",
              "3       162     26   14           3193.64\n",
              "4        84     73   12            801.05"
            ]
          },
          "metadata": {
            "tags": []
          },
          "execution_count": 22
        }
      ]
    },
    {
      "cell_type": "code",
      "metadata": {
        "id": "Pt1O-YmfhhQT",
        "colab_type": "code",
        "colab": {
          "base_uri": "https://localhost:8080/",
          "height": 319
        },
        "outputId": "ca9974a7-f010-48b9-fd6e-35e03771dd69"
      },
      "source": [
        "x['sourceid'] = x['sourceid'].astype(str)\n",
        "x['dstid'] = x['dstid'].astype(str)\n",
        "x['hod'] = x['hod'].astype(str)"
      ],
      "execution_count": null,
      "outputs": [
        {
          "output_type": "stream",
          "text": [
            "/usr/local/lib/python3.6/dist-packages/ipykernel_launcher.py:1: SettingWithCopyWarning: \n",
            "A value is trying to be set on a copy of a slice from a DataFrame.\n",
            "Try using .loc[row_indexer,col_indexer] = value instead\n",
            "\n",
            "See the caveats in the documentation: https://pandas.pydata.org/pandas-docs/stable/user_guide/indexing.html#returning-a-view-versus-a-copy\n",
            "  \"\"\"Entry point for launching an IPython kernel.\n",
            "/usr/local/lib/python3.6/dist-packages/ipykernel_launcher.py:2: SettingWithCopyWarning: \n",
            "A value is trying to be set on a copy of a slice from a DataFrame.\n",
            "Try using .loc[row_indexer,col_indexer] = value instead\n",
            "\n",
            "See the caveats in the documentation: https://pandas.pydata.org/pandas-docs/stable/user_guide/indexing.html#returning-a-view-versus-a-copy\n",
            "  \n",
            "/usr/local/lib/python3.6/dist-packages/ipykernel_launcher.py:3: SettingWithCopyWarning: \n",
            "A value is trying to be set on a copy of a slice from a DataFrame.\n",
            "Try using .loc[row_indexer,col_indexer] = value instead\n",
            "\n",
            "See the caveats in the documentation: https://pandas.pydata.org/pandas-docs/stable/user_guide/indexing.html#returning-a-view-versus-a-copy\n",
            "  This is separate from the ipykernel package so we can avoid doing imports until\n"
          ],
          "name": "stderr"
        }
      ]
    },
    {
      "cell_type": "code",
      "metadata": {
        "id": "jyogLGgwmejh",
        "colab_type": "code",
        "colab": {
          "base_uri": "https://localhost:8080/",
          "height": 101
        },
        "outputId": "d743bb72-e7d1-4bfa-c46a-8c24431c273e"
      },
      "source": [
        "x.dtypes"
      ],
      "execution_count": null,
      "outputs": [
        {
          "output_type": "execute_result",
          "data": {
            "text/plain": [
              "sourceid             object\n",
              "dstid                object\n",
              "hod                  object\n",
              "mean_travel_time    float64\n",
              "dtype: object"
            ]
          },
          "metadata": {
            "tags": []
          },
          "execution_count": 24
        }
      ]
    },
    {
      "cell_type": "code",
      "metadata": {
        "id": "7iNAJN7Omu1o",
        "colab_type": "code",
        "colab": {}
      },
      "source": [
        "dummy_cat = ['dstid','sourceid','hod']"
      ],
      "execution_count": null,
      "outputs": []
    },
    {
      "cell_type": "code",
      "metadata": {
        "id": "_ixQeJ7EnGze",
        "colab_type": "code",
        "colab": {
          "base_uri": "https://localhost:8080/",
          "height": 34
        },
        "outputId": "86590638-5679-44f6-c58d-7751ba66548b"
      },
      "source": [
        "dummies = pd.get_dummies(x[dummy_cat])\n",
        "dummies.shape"
      ],
      "execution_count": null,
      "outputs": [
        {
          "output_type": "execute_result",
          "data": {
            "text/plain": [
              "(851963, 420)"
            ]
          },
          "metadata": {
            "tags": []
          },
          "execution_count": 26
        }
      ]
    },
    {
      "cell_type": "code",
      "metadata": {
        "id": "oJ7hdc-rnOen",
        "colab_type": "code",
        "colab": {
          "base_uri": "https://localhost:8080/",
          "height": 34
        },
        "outputId": "09fba564-4692-4998-9202-fb047f587cb1"
      },
      "source": [
        "dummies = pd.get_dummies(x[dummy_cat], drop_first = True)\n",
        "dummies.shape"
      ],
      "execution_count": null,
      "outputs": [
        {
          "output_type": "execute_result",
          "data": {
            "text/plain": [
              "(851963, 417)"
            ]
          },
          "metadata": {
            "tags": []
          },
          "execution_count": 27
        }
      ]
    },
    {
      "cell_type": "code",
      "metadata": {
        "id": "z6s6V99nHNCG",
        "colab_type": "code",
        "colab": {
          "base_uri": "https://localhost:8080/",
          "height": 195
        },
        "outputId": "92ba8040-362d-4671-e4a0-b8a3513f4455"
      },
      "source": [
        "x.head()"
      ],
      "execution_count": null,
      "outputs": [
        {
          "output_type": "execute_result",
          "data": {
            "text/html": [
              "<div>\n",
              "<style scoped>\n",
              "    .dataframe tbody tr th:only-of-type {\n",
              "        vertical-align: middle;\n",
              "    }\n",
              "\n",
              "    .dataframe tbody tr th {\n",
              "        vertical-align: top;\n",
              "    }\n",
              "\n",
              "    .dataframe thead th {\n",
              "        text-align: right;\n",
              "    }\n",
              "</style>\n",
              "<table border=\"1\" class=\"dataframe\">\n",
              "  <thead>\n",
              "    <tr style=\"text-align: right;\">\n",
              "      <th></th>\n",
              "      <th>sourceid</th>\n",
              "      <th>dstid</th>\n",
              "      <th>hod</th>\n",
              "      <th>mean_travel_time</th>\n",
              "      <th>distance</th>\n",
              "    </tr>\n",
              "  </thead>\n",
              "  <tbody>\n",
              "    <tr>\n",
              "      <th>0</th>\n",
              "      <td>88</td>\n",
              "      <td>33</td>\n",
              "      <td>12</td>\n",
              "      <td>2022.22</td>\n",
              "      <td>0</td>\n",
              "    </tr>\n",
              "    <tr>\n",
              "      <th>1</th>\n",
              "      <td>163</td>\n",
              "      <td>16</td>\n",
              "      <td>14</td>\n",
              "      <td>3159.21</td>\n",
              "      <td>0</td>\n",
              "    </tr>\n",
              "    <tr>\n",
              "      <th>2</th>\n",
              "      <td>160</td>\n",
              "      <td>46</td>\n",
              "      <td>14</td>\n",
              "      <td>3943.34</td>\n",
              "      <td>0</td>\n",
              "    </tr>\n",
              "    <tr>\n",
              "      <th>3</th>\n",
              "      <td>162</td>\n",
              "      <td>26</td>\n",
              "      <td>14</td>\n",
              "      <td>3193.64</td>\n",
              "      <td>0</td>\n",
              "    </tr>\n",
              "    <tr>\n",
              "      <th>4</th>\n",
              "      <td>84</td>\n",
              "      <td>73</td>\n",
              "      <td>12</td>\n",
              "      <td>801.05</td>\n",
              "      <td>0</td>\n",
              "    </tr>\n",
              "  </tbody>\n",
              "</table>\n",
              "</div>"
            ],
            "text/plain": [
              "  sourceid dstid hod  mean_travel_time  distance\n",
              "0       88    33  12           2022.22         0\n",
              "1      163    16  14           3159.21         0\n",
              "2      160    46  14           3943.34         0\n",
              "3      162    26  14           3193.64         0\n",
              "4       84    73  12            801.05         0"
            ]
          },
          "metadata": {
            "tags": []
          },
          "execution_count": 31
        }
      ]
    },
    {
      "cell_type": "code",
      "metadata": {
        "id": "2AVS9cC_HkX0",
        "colab_type": "code",
        "colab": {
          "base_uri": "https://localhost:8080/",
          "height": 185
        },
        "outputId": "ef78bdda-5005-4891-bbee-b6c313012d56"
      },
      "source": [
        "x['distance'][2] = 23"
      ],
      "execution_count": null,
      "outputs": [
        {
          "output_type": "stream",
          "text": [
            "/usr/local/lib/python3.6/dist-packages/ipykernel_launcher.py:1: SettingWithCopyWarning: \n",
            "A value is trying to be set on a copy of a slice from a DataFrame\n",
            "\n",
            "See the caveats in the documentation: https://pandas.pydata.org/pandas-docs/stable/user_guide/indexing.html#returning-a-view-versus-a-copy\n",
            "  \"\"\"Entry point for launching an IPython kernel.\n",
            "/usr/local/lib/python3.6/dist-packages/IPython/core/interactiveshell.py:2882: SettingWithCopyWarning: \n",
            "A value is trying to be set on a copy of a slice from a DataFrame\n",
            "\n",
            "See the caveats in the documentation: https://pandas.pydata.org/pandas-docs/stable/user_guide/indexing.html#returning-a-view-versus-a-copy\n",
            "  exec(code_obj, self.user_global_ns, self.user_ns)\n"
          ],
          "name": "stderr"
        }
      ]
    },
    {
      "cell_type": "code",
      "metadata": {
        "id": "6nfjkq20JMVC",
        "colab_type": "code",
        "colab": {
          "base_uri": "https://localhost:8080/",
          "height": 195
        },
        "outputId": "081141d5-aab5-4366-bf3a-7c82127cb5ba"
      },
      "source": [
        "x.head()"
      ],
      "execution_count": null,
      "outputs": [
        {
          "output_type": "execute_result",
          "data": {
            "text/html": [
              "<div>\n",
              "<style scoped>\n",
              "    .dataframe tbody tr th:only-of-type {\n",
              "        vertical-align: middle;\n",
              "    }\n",
              "\n",
              "    .dataframe tbody tr th {\n",
              "        vertical-align: top;\n",
              "    }\n",
              "\n",
              "    .dataframe thead th {\n",
              "        text-align: right;\n",
              "    }\n",
              "</style>\n",
              "<table border=\"1\" class=\"dataframe\">\n",
              "  <thead>\n",
              "    <tr style=\"text-align: right;\">\n",
              "      <th></th>\n",
              "      <th>sourceid</th>\n",
              "      <th>dstid</th>\n",
              "      <th>hod</th>\n",
              "      <th>mean_travel_time</th>\n",
              "      <th>distance</th>\n",
              "    </tr>\n",
              "  </thead>\n",
              "  <tbody>\n",
              "    <tr>\n",
              "      <th>0</th>\n",
              "      <td>87</td>\n",
              "      <td>32</td>\n",
              "      <td>12</td>\n",
              "      <td>2022.22</td>\n",
              "      <td>1</td>\n",
              "    </tr>\n",
              "    <tr>\n",
              "      <th>1</th>\n",
              "      <td>162</td>\n",
              "      <td>15</td>\n",
              "      <td>14</td>\n",
              "      <td>3159.21</td>\n",
              "      <td>1</td>\n",
              "    </tr>\n",
              "    <tr>\n",
              "      <th>2</th>\n",
              "      <td>159</td>\n",
              "      <td>45</td>\n",
              "      <td>14</td>\n",
              "      <td>3943.34</td>\n",
              "      <td>23</td>\n",
              "    </tr>\n",
              "    <tr>\n",
              "      <th>3</th>\n",
              "      <td>161</td>\n",
              "      <td>25</td>\n",
              "      <td>14</td>\n",
              "      <td>3193.64</td>\n",
              "      <td>1</td>\n",
              "    </tr>\n",
              "    <tr>\n",
              "      <th>4</th>\n",
              "      <td>83</td>\n",
              "      <td>72</td>\n",
              "      <td>12</td>\n",
              "      <td>801.05</td>\n",
              "      <td>1</td>\n",
              "    </tr>\n",
              "  </tbody>\n",
              "</table>\n",
              "</div>"
            ],
            "text/plain": [
              "   sourceid  dstid hod  mean_travel_time  distance\n",
              "0        87     32  12           2022.22         1\n",
              "1       162     15  14           3159.21         1\n",
              "2       159     45  14           3943.34        23\n",
              "3       161     25  14           3193.64         1\n",
              "4        83     72  12            801.05         1"
            ]
          },
          "metadata": {
            "tags": []
          },
          "execution_count": 82
        }
      ]
    },
    {
      "cell_type": "code",
      "metadata": {
        "id": "y8fNV8sMMIBr",
        "colab_type": "code",
        "colab": {}
      },
      "source": [
        "rows, cols = (198, 198) \n",
        "arr=[] \n",
        "for i in range(cols): \n",
        "    col = []\n",
        "    for j in range(rows):\n",
        "      temp =  bglr_c.loc[i, 'geometry'].distance(bglr_c.loc[j, 'geometry'])\n",
        "      col.append(temp) \n",
        "    arr.append(col)"
      ],
      "execution_count": null,
      "outputs": []
    },
    {
      "cell_type": "code",
      "metadata": {
        "id": "0nm66sXhNL12",
        "colab_type": "code",
        "colab": {
          "base_uri": "https://localhost:8080/",
          "height": 244
        },
        "outputId": "16327949-e89c-474e-fd07-f92feba5956d"
      },
      "source": [
        "distance = pd.DataFrame(arr)\n",
        "distance.head()"
      ],
      "execution_count": null,
      "outputs": [
        {
          "output_type": "execute_result",
          "data": {
            "text/html": [
              "<div>\n",
              "<style scoped>\n",
              "    .dataframe tbody tr th:only-of-type {\n",
              "        vertical-align: middle;\n",
              "    }\n",
              "\n",
              "    .dataframe tbody tr th {\n",
              "        vertical-align: top;\n",
              "    }\n",
              "\n",
              "    .dataframe thead th {\n",
              "        text-align: right;\n",
              "    }\n",
              "</style>\n",
              "<table border=\"1\" class=\"dataframe\">\n",
              "  <thead>\n",
              "    <tr style=\"text-align: right;\">\n",
              "      <th></th>\n",
              "      <th>0</th>\n",
              "      <th>1</th>\n",
              "      <th>2</th>\n",
              "      <th>3</th>\n",
              "      <th>4</th>\n",
              "      <th>5</th>\n",
              "      <th>6</th>\n",
              "      <th>7</th>\n",
              "      <th>8</th>\n",
              "      <th>9</th>\n",
              "      <th>10</th>\n",
              "      <th>11</th>\n",
              "      <th>12</th>\n",
              "      <th>13</th>\n",
              "      <th>14</th>\n",
              "      <th>15</th>\n",
              "      <th>16</th>\n",
              "      <th>17</th>\n",
              "      <th>18</th>\n",
              "      <th>19</th>\n",
              "      <th>20</th>\n",
              "      <th>21</th>\n",
              "      <th>22</th>\n",
              "      <th>23</th>\n",
              "      <th>24</th>\n",
              "      <th>25</th>\n",
              "      <th>26</th>\n",
              "      <th>27</th>\n",
              "      <th>28</th>\n",
              "      <th>29</th>\n",
              "      <th>30</th>\n",
              "      <th>31</th>\n",
              "      <th>32</th>\n",
              "      <th>33</th>\n",
              "      <th>34</th>\n",
              "      <th>35</th>\n",
              "      <th>36</th>\n",
              "      <th>37</th>\n",
              "      <th>38</th>\n",
              "      <th>39</th>\n",
              "      <th>...</th>\n",
              "      <th>158</th>\n",
              "      <th>159</th>\n",
              "      <th>160</th>\n",
              "      <th>161</th>\n",
              "      <th>162</th>\n",
              "      <th>163</th>\n",
              "      <th>164</th>\n",
              "      <th>165</th>\n",
              "      <th>166</th>\n",
              "      <th>167</th>\n",
              "      <th>168</th>\n",
              "      <th>169</th>\n",
              "      <th>170</th>\n",
              "      <th>171</th>\n",
              "      <th>172</th>\n",
              "      <th>173</th>\n",
              "      <th>174</th>\n",
              "      <th>175</th>\n",
              "      <th>176</th>\n",
              "      <th>177</th>\n",
              "      <th>178</th>\n",
              "      <th>179</th>\n",
              "      <th>180</th>\n",
              "      <th>181</th>\n",
              "      <th>182</th>\n",
              "      <th>183</th>\n",
              "      <th>184</th>\n",
              "      <th>185</th>\n",
              "      <th>186</th>\n",
              "      <th>187</th>\n",
              "      <th>188</th>\n",
              "      <th>189</th>\n",
              "      <th>190</th>\n",
              "      <th>191</th>\n",
              "      <th>192</th>\n",
              "      <th>193</th>\n",
              "      <th>194</th>\n",
              "      <th>195</th>\n",
              "      <th>196</th>\n",
              "      <th>197</th>\n",
              "    </tr>\n",
              "  </thead>\n",
              "  <tbody>\n",
              "    <tr>\n",
              "      <th>0</th>\n",
              "      <td>0.000000</td>\n",
              "      <td>0.027801</td>\n",
              "      <td>0.030922</td>\n",
              "      <td>0.146016</td>\n",
              "      <td>0.170969</td>\n",
              "      <td>0.159719</td>\n",
              "      <td>0.161847</td>\n",
              "      <td>0.157106</td>\n",
              "      <td>0.175449</td>\n",
              "      <td>0.188620</td>\n",
              "      <td>0.068644</td>\n",
              "      <td>0.062844</td>\n",
              "      <td>0.049879</td>\n",
              "      <td>0.077538</td>\n",
              "      <td>0.062963</td>\n",
              "      <td>0.067877</td>\n",
              "      <td>0.045945</td>\n",
              "      <td>0.199502</td>\n",
              "      <td>0.230841</td>\n",
              "      <td>0.141183</td>\n",
              "      <td>0.167308</td>\n",
              "      <td>0.085748</td>\n",
              "      <td>0.211154</td>\n",
              "      <td>0.089570</td>\n",
              "      <td>0.099300</td>\n",
              "      <td>0.102167</td>\n",
              "      <td>0.111901</td>\n",
              "      <td>0.127263</td>\n",
              "      <td>0.154244</td>\n",
              "      <td>0.081287</td>\n",
              "      <td>0.093751</td>\n",
              "      <td>0.101827</td>\n",
              "      <td>0.100719</td>\n",
              "      <td>0.111767</td>\n",
              "      <td>0.123770</td>\n",
              "      <td>0.134127</td>\n",
              "      <td>0.144503</td>\n",
              "      <td>0.142767</td>\n",
              "      <td>0.117737</td>\n",
              "      <td>0.109690</td>\n",
              "      <td>...</td>\n",
              "      <td>0.213784</td>\n",
              "      <td>0.207378</td>\n",
              "      <td>0.211855</td>\n",
              "      <td>0.197293</td>\n",
              "      <td>0.190302</td>\n",
              "      <td>0.204622</td>\n",
              "      <td>0.241223</td>\n",
              "      <td>0.222470</td>\n",
              "      <td>0.192808</td>\n",
              "      <td>0.220609</td>\n",
              "      <td>0.228972</td>\n",
              "      <td>0.199503</td>\n",
              "      <td>0.218213</td>\n",
              "      <td>0.224702</td>\n",
              "      <td>0.221308</td>\n",
              "      <td>0.224623</td>\n",
              "      <td>0.224531</td>\n",
              "      <td>0.229818</td>\n",
              "      <td>0.233751</td>\n",
              "      <td>0.252638</td>\n",
              "      <td>0.243528</td>\n",
              "      <td>0.225647</td>\n",
              "      <td>0.221886</td>\n",
              "      <td>0.260066</td>\n",
              "      <td>0.261124</td>\n",
              "      <td>0.235935</td>\n",
              "      <td>0.262681</td>\n",
              "      <td>0.020066</td>\n",
              "      <td>0.157247</td>\n",
              "      <td>0.180439</td>\n",
              "      <td>0.201429</td>\n",
              "      <td>0.200309</td>\n",
              "      <td>0.202570</td>\n",
              "      <td>0.231491</td>\n",
              "      <td>0.211298</td>\n",
              "      <td>0.204536</td>\n",
              "      <td>0.130382</td>\n",
              "      <td>0.106107</td>\n",
              "      <td>0.203879</td>\n",
              "      <td>0.241862</td>\n",
              "    </tr>\n",
              "    <tr>\n",
              "      <th>1</th>\n",
              "      <td>0.027801</td>\n",
              "      <td>0.000000</td>\n",
              "      <td>0.026651</td>\n",
              "      <td>0.146134</td>\n",
              "      <td>0.177606</td>\n",
              "      <td>0.166211</td>\n",
              "      <td>0.163906</td>\n",
              "      <td>0.156211</td>\n",
              "      <td>0.173989</td>\n",
              "      <td>0.183898</td>\n",
              "      <td>0.046229</td>\n",
              "      <td>0.035695</td>\n",
              "      <td>0.063615</td>\n",
              "      <td>0.077667</td>\n",
              "      <td>0.055996</td>\n",
              "      <td>0.052535</td>\n",
              "      <td>0.027382</td>\n",
              "      <td>0.173355</td>\n",
              "      <td>0.205068</td>\n",
              "      <td>0.113483</td>\n",
              "      <td>0.140395</td>\n",
              "      <td>0.060042</td>\n",
              "      <td>0.187909</td>\n",
              "      <td>0.066613</td>\n",
              "      <td>0.077024</td>\n",
              "      <td>0.076351</td>\n",
              "      <td>0.086701</td>\n",
              "      <td>0.101751</td>\n",
              "      <td>0.128821</td>\n",
              "      <td>0.053500</td>\n",
              "      <td>0.066004</td>\n",
              "      <td>0.074157</td>\n",
              "      <td>0.073160</td>\n",
              "      <td>0.084144</td>\n",
              "      <td>0.096710</td>\n",
              "      <td>0.107779</td>\n",
              "      <td>0.117692</td>\n",
              "      <td>0.118081</td>\n",
              "      <td>0.093032</td>\n",
              "      <td>0.086433</td>\n",
              "      <td>...</td>\n",
              "      <td>0.196207</td>\n",
              "      <td>0.195540</td>\n",
              "      <td>0.197230</td>\n",
              "      <td>0.180370</td>\n",
              "      <td>0.173630</td>\n",
              "      <td>0.186763</td>\n",
              "      <td>0.241168</td>\n",
              "      <td>0.216370</td>\n",
              "      <td>0.195940</td>\n",
              "      <td>0.227427</td>\n",
              "      <td>0.232730</td>\n",
              "      <td>0.199909</td>\n",
              "      <td>0.207887</td>\n",
              "      <td>0.211121</td>\n",
              "      <td>0.203135</td>\n",
              "      <td>0.207748</td>\n",
              "      <td>0.209725</td>\n",
              "      <td>0.216805</td>\n",
              "      <td>0.222234</td>\n",
              "      <td>0.242184</td>\n",
              "      <td>0.227653</td>\n",
              "      <td>0.203837</td>\n",
              "      <td>0.202696</td>\n",
              "      <td>0.245763</td>\n",
              "      <td>0.243219</td>\n",
              "      <td>0.217937</td>\n",
              "      <td>0.243239</td>\n",
              "      <td>0.041872</td>\n",
              "      <td>0.162427</td>\n",
              "      <td>0.154871</td>\n",
              "      <td>0.185754</td>\n",
              "      <td>0.185378</td>\n",
              "      <td>0.181493</td>\n",
              "      <td>0.211407</td>\n",
              "      <td>0.194994</td>\n",
              "      <td>0.190705</td>\n",
              "      <td>0.135499</td>\n",
              "      <td>0.109930</td>\n",
              "      <td>0.201007</td>\n",
              "      <td>0.217961</td>\n",
              "    </tr>\n",
              "    <tr>\n",
              "      <th>2</th>\n",
              "      <td>0.030922</td>\n",
              "      <td>0.026651</td>\n",
              "      <td>0.000000</td>\n",
              "      <td>0.120608</td>\n",
              "      <td>0.150987</td>\n",
              "      <td>0.139593</td>\n",
              "      <td>0.137917</td>\n",
              "      <td>0.131052</td>\n",
              "      <td>0.149092</td>\n",
              "      <td>0.160457</td>\n",
              "      <td>0.042655</td>\n",
              "      <td>0.046111</td>\n",
              "      <td>0.039739</td>\n",
              "      <td>0.051660</td>\n",
              "      <td>0.032799</td>\n",
              "      <td>0.037455</td>\n",
              "      <td>0.020062</td>\n",
              "      <td>0.175145</td>\n",
              "      <td>0.205591</td>\n",
              "      <td>0.123259</td>\n",
              "      <td>0.145143</td>\n",
              "      <td>0.063024</td>\n",
              "      <td>0.182976</td>\n",
              "      <td>0.062827</td>\n",
              "      <td>0.071579</td>\n",
              "      <td>0.078852</td>\n",
              "      <td>0.087186</td>\n",
              "      <td>0.102673</td>\n",
              "      <td>0.129057</td>\n",
              "      <td>0.068490</td>\n",
              "      <td>0.077906</td>\n",
              "      <td>0.089591</td>\n",
              "      <td>0.082881</td>\n",
              "      <td>0.093952</td>\n",
              "      <td>0.102879</td>\n",
              "      <td>0.111024</td>\n",
              "      <td>0.122382</td>\n",
              "      <td>0.116678</td>\n",
              "      <td>0.092143</td>\n",
              "      <td>0.082603</td>\n",
              "      <td>...</td>\n",
              "      <td>0.183049</td>\n",
              "      <td>0.176776</td>\n",
              "      <td>0.180943</td>\n",
              "      <td>0.166481</td>\n",
              "      <td>0.159468</td>\n",
              "      <td>0.173948</td>\n",
              "      <td>0.215921</td>\n",
              "      <td>0.193732</td>\n",
              "      <td>0.169786</td>\n",
              "      <td>0.200824</td>\n",
              "      <td>0.206505</td>\n",
              "      <td>0.174446</td>\n",
              "      <td>0.187964</td>\n",
              "      <td>0.193865</td>\n",
              "      <td>0.190674</td>\n",
              "      <td>0.193784</td>\n",
              "      <td>0.193615</td>\n",
              "      <td>0.199050</td>\n",
              "      <td>0.203241</td>\n",
              "      <td>0.222398</td>\n",
              "      <td>0.212614</td>\n",
              "      <td>0.196391</td>\n",
              "      <td>0.191506</td>\n",
              "      <td>0.229184</td>\n",
              "      <td>0.230402</td>\n",
              "      <td>0.205251</td>\n",
              "      <td>0.232318</td>\n",
              "      <td>0.029739</td>\n",
              "      <td>0.135908</td>\n",
              "      <td>0.155198</td>\n",
              "      <td>0.170516</td>\n",
              "      <td>0.169389</td>\n",
              "      <td>0.172987</td>\n",
              "      <td>0.201394</td>\n",
              "      <td>0.180415</td>\n",
              "      <td>0.173666</td>\n",
              "      <td>0.108945</td>\n",
              "      <td>0.083451</td>\n",
              "      <td>0.176747</td>\n",
              "      <td>0.214153</td>\n",
              "    </tr>\n",
              "    <tr>\n",
              "      <th>3</th>\n",
              "      <td>0.146016</td>\n",
              "      <td>0.146134</td>\n",
              "      <td>0.120608</td>\n",
              "      <td>0.000000</td>\n",
              "      <td>0.047141</td>\n",
              "      <td>0.039458</td>\n",
              "      <td>0.020016</td>\n",
              "      <td>0.011975</td>\n",
              "      <td>0.030151</td>\n",
              "      <td>0.049565</td>\n",
              "      <td>0.121845</td>\n",
              "      <td>0.143751</td>\n",
              "      <td>0.101355</td>\n",
              "      <td>0.069065</td>\n",
              "      <td>0.090762</td>\n",
              "      <td>0.102320</td>\n",
              "      <td>0.122749</td>\n",
              "      <td>0.194236</td>\n",
              "      <td>0.212505</td>\n",
              "      <td>0.185412</td>\n",
              "      <td>0.183883</td>\n",
              "      <td>0.136343</td>\n",
              "      <td>0.171336</td>\n",
              "      <td>0.121063</td>\n",
              "      <td>0.117418</td>\n",
              "      <td>0.140261</td>\n",
              "      <td>0.137862</td>\n",
              "      <td>0.145674</td>\n",
              "      <td>0.157257</td>\n",
              "      <td>0.162427</td>\n",
              "      <td>0.161838</td>\n",
              "      <td>0.177337</td>\n",
              "      <td>0.159738</td>\n",
              "      <td>0.166363</td>\n",
              "      <td>0.161637</td>\n",
              "      <td>0.157316</td>\n",
              "      <td>0.168666</td>\n",
              "      <td>0.144607</td>\n",
              "      <td>0.135625</td>\n",
              "      <td>0.123851</td>\n",
              "      <td>...</td>\n",
              "      <td>0.130883</td>\n",
              "      <td>0.093775</td>\n",
              "      <td>0.111825</td>\n",
              "      <td>0.115639</td>\n",
              "      <td>0.109752</td>\n",
              "      <td>0.126408</td>\n",
              "      <td>0.095390</td>\n",
              "      <td>0.083867</td>\n",
              "      <td>0.051802</td>\n",
              "      <td>0.089672</td>\n",
              "      <td>0.088367</td>\n",
              "      <td>0.053839</td>\n",
              "      <td>0.095200</td>\n",
              "      <td>0.115891</td>\n",
              "      <td>0.140138</td>\n",
              "      <td>0.134390</td>\n",
              "      <td>0.122303</td>\n",
              "      <td>0.117104</td>\n",
              "      <td>0.113344</td>\n",
              "      <td>0.125464</td>\n",
              "      <td>0.143303</td>\n",
              "      <td>0.169545</td>\n",
              "      <td>0.147369</td>\n",
              "      <td>0.148845</td>\n",
              "      <td>0.169725</td>\n",
              "      <td>0.150030</td>\n",
              "      <td>0.180971</td>\n",
              "      <td>0.130410</td>\n",
              "      <td>0.031172</td>\n",
              "      <td>0.174171</td>\n",
              "      <td>0.110671</td>\n",
              "      <td>0.105547</td>\n",
              "      <td>0.147645</td>\n",
              "      <td>0.160774</td>\n",
              "      <td>0.121216</td>\n",
              "      <td>0.102200</td>\n",
              "      <td>0.028419</td>\n",
              "      <td>0.041804</td>\n",
              "      <td>0.059508</td>\n",
              "      <td>0.200275</td>\n",
              "    </tr>\n",
              "    <tr>\n",
              "      <th>4</th>\n",
              "      <td>0.170969</td>\n",
              "      <td>0.177606</td>\n",
              "      <td>0.150987</td>\n",
              "      <td>0.047141</td>\n",
              "      <td>0.000000</td>\n",
              "      <td>0.011394</td>\n",
              "      <td>0.030332</td>\n",
              "      <td>0.048360</td>\n",
              "      <td>0.051047</td>\n",
              "      <td>0.074628</td>\n",
              "      <td>0.161725</td>\n",
              "      <td>0.182162</td>\n",
              "      <td>0.121635</td>\n",
              "      <td>0.101153</td>\n",
              "      <td>0.126095</td>\n",
              "      <td>0.141299</td>\n",
              "      <td>0.157944</td>\n",
              "      <td>0.241256</td>\n",
              "      <td>0.258784</td>\n",
              "      <td>0.230917</td>\n",
              "      <td>0.230822</td>\n",
              "      <td>0.178587</td>\n",
              "      <td>0.216777</td>\n",
              "      <td>0.164228</td>\n",
              "      <td>0.161860</td>\n",
              "      <td>0.184367</td>\n",
              "      <td>0.183023</td>\n",
              "      <td>0.191775</td>\n",
              "      <td>0.204282</td>\n",
              "      <td>0.202610</td>\n",
              "      <td>0.203827</td>\n",
              "      <td>0.219246</td>\n",
              "      <td>0.202735</td>\n",
              "      <td>0.210222</td>\n",
              "      <td>0.206885</td>\n",
              "      <td>0.203486</td>\n",
              "      <td>0.215065</td>\n",
              "      <td>0.191501</td>\n",
              "      <td>0.181347</td>\n",
              "      <td>0.169216</td>\n",
              "      <td>...</td>\n",
              "      <td>0.171519</td>\n",
              "      <td>0.128063</td>\n",
              "      <td>0.149287</td>\n",
              "      <td>0.157737</td>\n",
              "      <td>0.152557</td>\n",
              "      <td>0.168408</td>\n",
              "      <td>0.083472</td>\n",
              "      <td>0.100366</td>\n",
              "      <td>0.031000</td>\n",
              "      <td>0.049865</td>\n",
              "      <td>0.060508</td>\n",
              "      <td>0.049259</td>\n",
              "      <td>0.124100</td>\n",
              "      <td>0.149541</td>\n",
              "      <td>0.180528</td>\n",
              "      <td>0.172846</td>\n",
              "      <td>0.157920</td>\n",
              "      <td>0.148836</td>\n",
              "      <td>0.141370</td>\n",
              "      <td>0.147480</td>\n",
              "      <td>0.177803</td>\n",
              "      <td>0.213095</td>\n",
              "      <td>0.188772</td>\n",
              "      <td>0.178266</td>\n",
              "      <td>0.205405</td>\n",
              "      <td>0.188561</td>\n",
              "      <td>0.218830</td>\n",
              "      <td>0.152529</td>\n",
              "      <td>0.017039</td>\n",
              "      <td>0.221281</td>\n",
              "      <td>0.151038</td>\n",
              "      <td>0.145321</td>\n",
              "      <td>0.192253</td>\n",
              "      <td>0.202210</td>\n",
              "      <td>0.160803</td>\n",
              "      <td>0.139945</td>\n",
              "      <td>0.042376</td>\n",
              "      <td>0.068082</td>\n",
              "      <td>0.070313</td>\n",
              "      <td>0.244739</td>\n",
              "    </tr>\n",
              "  </tbody>\n",
              "</table>\n",
              "<p>5 rows × 198 columns</p>\n",
              "</div>"
            ],
            "text/plain": [
              "        0         1         2    ...       195       196       197\n",
              "0  0.000000  0.027801  0.030922  ...  0.106107  0.203879  0.241862\n",
              "1  0.027801  0.000000  0.026651  ...  0.109930  0.201007  0.217961\n",
              "2  0.030922  0.026651  0.000000  ...  0.083451  0.176747  0.214153\n",
              "3  0.146016  0.146134  0.120608  ...  0.041804  0.059508  0.200275\n",
              "4  0.170969  0.177606  0.150987  ...  0.068082  0.070313  0.244739\n",
              "\n",
              "[5 rows x 198 columns]"
            ]
          },
          "metadata": {
            "tags": []
          },
          "execution_count": 61
        }
      ]
    },
    {
      "cell_type": "code",
      "metadata": {
        "id": "Y6yR7rTjOKTr",
        "colab_type": "code",
        "colab": {
          "base_uri": "https://localhost:8080/",
          "height": 397
        },
        "outputId": "5d2fb7b3-f4f9-4958-8267-9ec064bf01ca"
      },
      "source": [
        "x['sourceid'] = x['sourceid'].astype(int)\n",
        "x['dstid'] = x['dstid'].astype(int)\n",
        "x.head()"
      ],
      "execution_count": null,
      "outputs": [
        {
          "output_type": "stream",
          "text": [
            "/usr/local/lib/python3.6/dist-packages/ipykernel_launcher.py:1: SettingWithCopyWarning: \n",
            "A value is trying to be set on a copy of a slice from a DataFrame.\n",
            "Try using .loc[row_indexer,col_indexer] = value instead\n",
            "\n",
            "See the caveats in the documentation: https://pandas.pydata.org/pandas-docs/stable/user_guide/indexing.html#returning-a-view-versus-a-copy\n",
            "  \"\"\"Entry point for launching an IPython kernel.\n",
            "/usr/local/lib/python3.6/dist-packages/ipykernel_launcher.py:2: SettingWithCopyWarning: \n",
            "A value is trying to be set on a copy of a slice from a DataFrame.\n",
            "Try using .loc[row_indexer,col_indexer] = value instead\n",
            "\n",
            "See the caveats in the documentation: https://pandas.pydata.org/pandas-docs/stable/user_guide/indexing.html#returning-a-view-versus-a-copy\n",
            "  \n"
          ],
          "name": "stderr"
        },
        {
          "output_type": "execute_result",
          "data": {
            "text/html": [
              "<div>\n",
              "<style scoped>\n",
              "    .dataframe tbody tr th:only-of-type {\n",
              "        vertical-align: middle;\n",
              "    }\n",
              "\n",
              "    .dataframe tbody tr th {\n",
              "        vertical-align: top;\n",
              "    }\n",
              "\n",
              "    .dataframe thead th {\n",
              "        text-align: right;\n",
              "    }\n",
              "</style>\n",
              "<table border=\"1\" class=\"dataframe\">\n",
              "  <thead>\n",
              "    <tr style=\"text-align: right;\">\n",
              "      <th></th>\n",
              "      <th>sourceid</th>\n",
              "      <th>dstid</th>\n",
              "      <th>hod</th>\n",
              "      <th>mean_travel_time</th>\n",
              "      <th>distance</th>\n",
              "    </tr>\n",
              "  </thead>\n",
              "  <tbody>\n",
              "    <tr>\n",
              "      <th>0</th>\n",
              "      <td>88</td>\n",
              "      <td>33</td>\n",
              "      <td>12</td>\n",
              "      <td>2022.22</td>\n",
              "      <td>0</td>\n",
              "    </tr>\n",
              "    <tr>\n",
              "      <th>1</th>\n",
              "      <td>163</td>\n",
              "      <td>16</td>\n",
              "      <td>14</td>\n",
              "      <td>3159.21</td>\n",
              "      <td>0</td>\n",
              "    </tr>\n",
              "    <tr>\n",
              "      <th>2</th>\n",
              "      <td>160</td>\n",
              "      <td>46</td>\n",
              "      <td>14</td>\n",
              "      <td>3943.34</td>\n",
              "      <td>0</td>\n",
              "    </tr>\n",
              "    <tr>\n",
              "      <th>3</th>\n",
              "      <td>162</td>\n",
              "      <td>26</td>\n",
              "      <td>14</td>\n",
              "      <td>3193.64</td>\n",
              "      <td>0</td>\n",
              "    </tr>\n",
              "    <tr>\n",
              "      <th>4</th>\n",
              "      <td>84</td>\n",
              "      <td>73</td>\n",
              "      <td>12</td>\n",
              "      <td>801.05</td>\n",
              "      <td>0</td>\n",
              "    </tr>\n",
              "  </tbody>\n",
              "</table>\n",
              "</div>"
            ],
            "text/plain": [
              "   sourceid  dstid hod  mean_travel_time  distance\n",
              "0        88     33  12           2022.22         0\n",
              "1       163     16  14           3159.21         0\n",
              "2       160     46  14           3943.34         0\n",
              "3       162     26  14           3193.64         0\n",
              "4        84     73  12            801.05         0"
            ]
          },
          "metadata": {
            "tags": []
          },
          "execution_count": 63
        }
      ]
    },
    {
      "cell_type": "code",
      "metadata": {
        "id": "CZ_HSu2OO-fc",
        "colab_type": "code",
        "colab": {
          "base_uri": "https://localhost:8080/",
          "height": 296
        },
        "outputId": "b1f35caf-a571-4a46-9ee5-23bf82dfe24b"
      },
      "source": [
        "x['sourceid'] = x['sourceid'] - 1"
      ],
      "execution_count": null,
      "outputs": [
        {
          "output_type": "stream",
          "text": [
            "/usr/local/lib/python3.6/dist-packages/ipykernel_launcher.py:1: SettingWithCopyWarning: \n",
            "A value is trying to be set on a copy of a slice from a DataFrame.\n",
            "Try using .loc[row_indexer,col_indexer] = value instead\n",
            "\n",
            "See the caveats in the documentation: https://pandas.pydata.org/pandas-docs/stable/user_guide/indexing.html#returning-a-view-versus-a-copy\n",
            "  \"\"\"Entry point for launching an IPython kernel.\n"
          ],
          "name": "stderr"
        },
        {
          "output_type": "execute_result",
          "data": {
            "text/html": [
              "<div>\n",
              "<style scoped>\n",
              "    .dataframe tbody tr th:only-of-type {\n",
              "        vertical-align: middle;\n",
              "    }\n",
              "\n",
              "    .dataframe tbody tr th {\n",
              "        vertical-align: top;\n",
              "    }\n",
              "\n",
              "    .dataframe thead th {\n",
              "        text-align: right;\n",
              "    }\n",
              "</style>\n",
              "<table border=\"1\" class=\"dataframe\">\n",
              "  <thead>\n",
              "    <tr style=\"text-align: right;\">\n",
              "      <th></th>\n",
              "      <th>sourceid</th>\n",
              "      <th>dstid</th>\n",
              "      <th>hod</th>\n",
              "      <th>mean_travel_time</th>\n",
              "      <th>distance</th>\n",
              "    </tr>\n",
              "  </thead>\n",
              "  <tbody>\n",
              "    <tr>\n",
              "      <th>0</th>\n",
              "      <td>87</td>\n",
              "      <td>33</td>\n",
              "      <td>12</td>\n",
              "      <td>2022.22</td>\n",
              "      <td>0</td>\n",
              "    </tr>\n",
              "    <tr>\n",
              "      <th>1</th>\n",
              "      <td>162</td>\n",
              "      <td>16</td>\n",
              "      <td>14</td>\n",
              "      <td>3159.21</td>\n",
              "      <td>0</td>\n",
              "    </tr>\n",
              "    <tr>\n",
              "      <th>2</th>\n",
              "      <td>159</td>\n",
              "      <td>46</td>\n",
              "      <td>14</td>\n",
              "      <td>3943.34</td>\n",
              "      <td>0</td>\n",
              "    </tr>\n",
              "    <tr>\n",
              "      <th>3</th>\n",
              "      <td>161</td>\n",
              "      <td>26</td>\n",
              "      <td>14</td>\n",
              "      <td>3193.64</td>\n",
              "      <td>0</td>\n",
              "    </tr>\n",
              "    <tr>\n",
              "      <th>4</th>\n",
              "      <td>83</td>\n",
              "      <td>73</td>\n",
              "      <td>12</td>\n",
              "      <td>801.05</td>\n",
              "      <td>0</td>\n",
              "    </tr>\n",
              "  </tbody>\n",
              "</table>\n",
              "</div>"
            ],
            "text/plain": [
              "   sourceid  dstid hod  mean_travel_time  distance\n",
              "0        87     33  12           2022.22         0\n",
              "1       162     16  14           3159.21         0\n",
              "2       159     46  14           3943.34         0\n",
              "3       161     26  14           3193.64         0\n",
              "4        83     73  12            801.05         0"
            ]
          },
          "metadata": {
            "tags": []
          },
          "execution_count": 66
        }
      ]
    },
    {
      "cell_type": "code",
      "metadata": {
        "id": "w6pNFurqPU2K",
        "colab_type": "code",
        "colab": {
          "base_uri": "https://localhost:8080/",
          "height": 296
        },
        "outputId": "73e9ae5f-3537-49a9-e8bd-258745dcaf04"
      },
      "source": [
        "x['dstid'] = x['dstid'] - 1\n",
        "x.head()"
      ],
      "execution_count": null,
      "outputs": [
        {
          "output_type": "stream",
          "text": [
            "/usr/local/lib/python3.6/dist-packages/ipykernel_launcher.py:1: SettingWithCopyWarning: \n",
            "A value is trying to be set on a copy of a slice from a DataFrame.\n",
            "Try using .loc[row_indexer,col_indexer] = value instead\n",
            "\n",
            "See the caveats in the documentation: https://pandas.pydata.org/pandas-docs/stable/user_guide/indexing.html#returning-a-view-versus-a-copy\n",
            "  \"\"\"Entry point for launching an IPython kernel.\n"
          ],
          "name": "stderr"
        },
        {
          "output_type": "execute_result",
          "data": {
            "text/html": [
              "<div>\n",
              "<style scoped>\n",
              "    .dataframe tbody tr th:only-of-type {\n",
              "        vertical-align: middle;\n",
              "    }\n",
              "\n",
              "    .dataframe tbody tr th {\n",
              "        vertical-align: top;\n",
              "    }\n",
              "\n",
              "    .dataframe thead th {\n",
              "        text-align: right;\n",
              "    }\n",
              "</style>\n",
              "<table border=\"1\" class=\"dataframe\">\n",
              "  <thead>\n",
              "    <tr style=\"text-align: right;\">\n",
              "      <th></th>\n",
              "      <th>sourceid</th>\n",
              "      <th>dstid</th>\n",
              "      <th>hod</th>\n",
              "      <th>mean_travel_time</th>\n",
              "      <th>distance</th>\n",
              "    </tr>\n",
              "  </thead>\n",
              "  <tbody>\n",
              "    <tr>\n",
              "      <th>0</th>\n",
              "      <td>87</td>\n",
              "      <td>32</td>\n",
              "      <td>12</td>\n",
              "      <td>2022.22</td>\n",
              "      <td>0</td>\n",
              "    </tr>\n",
              "    <tr>\n",
              "      <th>1</th>\n",
              "      <td>162</td>\n",
              "      <td>15</td>\n",
              "      <td>14</td>\n",
              "      <td>3159.21</td>\n",
              "      <td>0</td>\n",
              "    </tr>\n",
              "    <tr>\n",
              "      <th>2</th>\n",
              "      <td>159</td>\n",
              "      <td>45</td>\n",
              "      <td>14</td>\n",
              "      <td>3943.34</td>\n",
              "      <td>0</td>\n",
              "    </tr>\n",
              "    <tr>\n",
              "      <th>3</th>\n",
              "      <td>161</td>\n",
              "      <td>25</td>\n",
              "      <td>14</td>\n",
              "      <td>3193.64</td>\n",
              "      <td>0</td>\n",
              "    </tr>\n",
              "    <tr>\n",
              "      <th>4</th>\n",
              "      <td>83</td>\n",
              "      <td>72</td>\n",
              "      <td>12</td>\n",
              "      <td>801.05</td>\n",
              "      <td>0</td>\n",
              "    </tr>\n",
              "  </tbody>\n",
              "</table>\n",
              "</div>"
            ],
            "text/plain": [
              "   sourceid  dstid hod  mean_travel_time  distance\n",
              "0        87     32  12           2022.22         0\n",
              "1       162     15  14           3159.21         0\n",
              "2       159     45  14           3943.34         0\n",
              "3       161     25  14           3193.64         0\n",
              "4        83     72  12            801.05         0"
            ]
          },
          "metadata": {
            "tags": []
          },
          "execution_count": 67
        }
      ]
    },
    {
      "cell_type": "code",
      "metadata": {
        "id": "rW9Sch8NTWQq",
        "colab_type": "code",
        "colab": {
          "base_uri": "https://localhost:8080/",
          "height": 118
        },
        "outputId": "3c799ff7-7d7e-47aa-d5d4-84e93d017449"
      },
      "source": [
        "x['distance'] = x['distance'].astype(float)"
      ],
      "execution_count": null,
      "outputs": [
        {
          "output_type": "stream",
          "text": [
            "/usr/local/lib/python3.6/dist-packages/ipykernel_launcher.py:1: SettingWithCopyWarning: \n",
            "A value is trying to be set on a copy of a slice from a DataFrame.\n",
            "Try using .loc[row_indexer,col_indexer] = value instead\n",
            "\n",
            "See the caveats in the documentation: https://pandas.pydata.org/pandas-docs/stable/user_guide/indexing.html#returning-a-view-versus-a-copy\n",
            "  \"\"\"Entry point for launching an IPython kernel.\n"
          ],
          "name": "stderr"
        }
      ]
    },
    {
      "cell_type": "code",
      "metadata": {
        "id": "DtjqBZQ_RfXJ",
        "colab_type": "code",
        "colab": {
          "base_uri": "https://localhost:8080/",
          "height": 363
        },
        "outputId": "d9967e41-ad0c-48b6-f353-388c533fef44"
      },
      "source": [
        "for k in x.index:\n",
        "  i = x['sourceid'][k]\n",
        "  j = x['dstid'][k]\n",
        "  x['distance'][k] = distance[i][j]\n",
        "x.head()"
      ],
      "execution_count": null,
      "outputs": [
        {
          "output_type": "stream",
          "text": [
            "/usr/local/lib/python3.6/dist-packages/ipykernel_launcher.py:4: SettingWithCopyWarning: \n",
            "A value is trying to be set on a copy of a slice from a DataFrame\n",
            "\n",
            "See the caveats in the documentation: https://pandas.pydata.org/pandas-docs/stable/user_guide/indexing.html#returning-a-view-versus-a-copy\n",
            "  after removing the cwd from sys.path.\n",
            "/usr/local/lib/python3.6/dist-packages/IPython/core/interactiveshell.py:2882: SettingWithCopyWarning: \n",
            "A value is trying to be set on a copy of a slice from a DataFrame\n",
            "\n",
            "See the caveats in the documentation: https://pandas.pydata.org/pandas-docs/stable/user_guide/indexing.html#returning-a-view-versus-a-copy\n",
            "  exec(code_obj, self.user_global_ns, self.user_ns)\n"
          ],
          "name": "stderr"
        },
        {
          "output_type": "execute_result",
          "data": {
            "text/html": [
              "<div>\n",
              "<style scoped>\n",
              "    .dataframe tbody tr th:only-of-type {\n",
              "        vertical-align: middle;\n",
              "    }\n",
              "\n",
              "    .dataframe tbody tr th {\n",
              "        vertical-align: top;\n",
              "    }\n",
              "\n",
              "    .dataframe thead th {\n",
              "        text-align: right;\n",
              "    }\n",
              "</style>\n",
              "<table border=\"1\" class=\"dataframe\">\n",
              "  <thead>\n",
              "    <tr style=\"text-align: right;\">\n",
              "      <th></th>\n",
              "      <th>sourceid</th>\n",
              "      <th>dstid</th>\n",
              "      <th>hod</th>\n",
              "      <th>mean_travel_time</th>\n",
              "      <th>distance</th>\n",
              "    </tr>\n",
              "  </thead>\n",
              "  <tbody>\n",
              "    <tr>\n",
              "      <th>0</th>\n",
              "      <td>87</td>\n",
              "      <td>32</td>\n",
              "      <td>12</td>\n",
              "      <td>2022.22</td>\n",
              "      <td>0.090622</td>\n",
              "    </tr>\n",
              "    <tr>\n",
              "      <th>1</th>\n",
              "      <td>162</td>\n",
              "      <td>15</td>\n",
              "      <td>14</td>\n",
              "      <td>3159.21</td>\n",
              "      <td>0.122644</td>\n",
              "    </tr>\n",
              "    <tr>\n",
              "      <th>2</th>\n",
              "      <td>159</td>\n",
              "      <td>45</td>\n",
              "      <td>14</td>\n",
              "      <td>3943.34</td>\n",
              "      <td>0.132051</td>\n",
              "    </tr>\n",
              "    <tr>\n",
              "      <th>3</th>\n",
              "      <td>161</td>\n",
              "      <td>25</td>\n",
              "      <td>14</td>\n",
              "      <td>3193.64</td>\n",
              "      <td>0.121013</td>\n",
              "    </tr>\n",
              "    <tr>\n",
              "      <th>4</th>\n",
              "      <td>83</td>\n",
              "      <td>72</td>\n",
              "      <td>12</td>\n",
              "      <td>801.05</td>\n",
              "      <td>0.030845</td>\n",
              "    </tr>\n",
              "  </tbody>\n",
              "</table>\n",
              "</div>"
            ],
            "text/plain": [
              "   sourceid  dstid hod  mean_travel_time  distance\n",
              "0        87     32  12           2022.22  0.090622\n",
              "1       162     15  14           3159.21  0.122644\n",
              "2       159     45  14           3943.34  0.132051\n",
              "3       161     25  14           3193.64  0.121013\n",
              "4        83     72  12            801.05  0.030845"
            ]
          },
          "metadata": {
            "tags": []
          },
          "execution_count": 90
        }
      ]
    },
    {
      "cell_type": "code",
      "metadata": {
        "id": "gsgt-IJXSuEL",
        "colab_type": "code",
        "colab": {
          "base_uri": "https://localhost:8080/",
          "height": 118
        },
        "outputId": "ce553c74-20b5-404b-c69a-fb9515367f87"
      },
      "source": [
        "x['distance'] = x['distance']*1000"
      ],
      "execution_count": null,
      "outputs": [
        {
          "output_type": "stream",
          "text": [
            "/usr/local/lib/python3.6/dist-packages/ipykernel_launcher.py:1: SettingWithCopyWarning: \n",
            "A value is trying to be set on a copy of a slice from a DataFrame.\n",
            "Try using .loc[row_indexer,col_indexer] = value instead\n",
            "\n",
            "See the caveats in the documentation: https://pandas.pydata.org/pandas-docs/stable/user_guide/indexing.html#returning-a-view-versus-a-copy\n",
            "  \"\"\"Entry point for launching an IPython kernel.\n"
          ],
          "name": "stderr"
        }
      ]
    },
    {
      "cell_type": "code",
      "metadata": {
        "id": "OQSJFG7NU88L",
        "colab_type": "code",
        "colab": {
          "base_uri": "https://localhost:8080/",
          "height": 195
        },
        "outputId": "872c1d82-e0a6-43fc-c320-09eb4fb77560"
      },
      "source": [
        "x.head()"
      ],
      "execution_count": null,
      "outputs": [
        {
          "output_type": "execute_result",
          "data": {
            "text/html": [
              "<div>\n",
              "<style scoped>\n",
              "    .dataframe tbody tr th:only-of-type {\n",
              "        vertical-align: middle;\n",
              "    }\n",
              "\n",
              "    .dataframe tbody tr th {\n",
              "        vertical-align: top;\n",
              "    }\n",
              "\n",
              "    .dataframe thead th {\n",
              "        text-align: right;\n",
              "    }\n",
              "</style>\n",
              "<table border=\"1\" class=\"dataframe\">\n",
              "  <thead>\n",
              "    <tr style=\"text-align: right;\">\n",
              "      <th></th>\n",
              "      <th>sourceid</th>\n",
              "      <th>dstid</th>\n",
              "      <th>hod</th>\n",
              "      <th>mean_travel_time</th>\n",
              "      <th>distance</th>\n",
              "    </tr>\n",
              "  </thead>\n",
              "  <tbody>\n",
              "    <tr>\n",
              "      <th>0</th>\n",
              "      <td>87</td>\n",
              "      <td>32</td>\n",
              "      <td>12</td>\n",
              "      <td>2022.22</td>\n",
              "      <td>90.621511</td>\n",
              "    </tr>\n",
              "    <tr>\n",
              "      <th>1</th>\n",
              "      <td>162</td>\n",
              "      <td>15</td>\n",
              "      <td>14</td>\n",
              "      <td>3159.21</td>\n",
              "      <td>122.644153</td>\n",
              "    </tr>\n",
              "    <tr>\n",
              "      <th>2</th>\n",
              "      <td>159</td>\n",
              "      <td>45</td>\n",
              "      <td>14</td>\n",
              "      <td>3943.34</td>\n",
              "      <td>132.050637</td>\n",
              "    </tr>\n",
              "    <tr>\n",
              "      <th>3</th>\n",
              "      <td>161</td>\n",
              "      <td>25</td>\n",
              "      <td>14</td>\n",
              "      <td>3193.64</td>\n",
              "      <td>121.013290</td>\n",
              "    </tr>\n",
              "    <tr>\n",
              "      <th>4</th>\n",
              "      <td>83</td>\n",
              "      <td>72</td>\n",
              "      <td>12</td>\n",
              "      <td>801.05</td>\n",
              "      <td>30.844938</td>\n",
              "    </tr>\n",
              "  </tbody>\n",
              "</table>\n",
              "</div>"
            ],
            "text/plain": [
              "   sourceid  dstid hod  mean_travel_time    distance\n",
              "0        87     32  12           2022.22   90.621511\n",
              "1       162     15  14           3159.21  122.644153\n",
              "2       159     45  14           3943.34  132.050637\n",
              "3       161     25  14           3193.64  121.013290\n",
              "4        83     72  12            801.05   30.844938"
            ]
          },
          "metadata": {
            "tags": []
          },
          "execution_count": 92
        }
      ]
    },
    {
      "cell_type": "code",
      "metadata": {
        "id": "8ojFdWd7VdSR",
        "colab_type": "code",
        "colab": {
          "base_uri": "https://localhost:8080/",
          "height": 218
        },
        "outputId": "9b866339-d07a-4e13-977e-c778b4dc49ca"
      },
      "source": [
        "x['dstid'] = x['dstid'].astype(str)\n",
        "x['sourceid'] = x['sourceid'].astype(str)"
      ],
      "execution_count": null,
      "outputs": [
        {
          "output_type": "stream",
          "text": [
            "/usr/local/lib/python3.6/dist-packages/ipykernel_launcher.py:1: SettingWithCopyWarning: \n",
            "A value is trying to be set on a copy of a slice from a DataFrame.\n",
            "Try using .loc[row_indexer,col_indexer] = value instead\n",
            "\n",
            "See the caveats in the documentation: https://pandas.pydata.org/pandas-docs/stable/user_guide/indexing.html#returning-a-view-versus-a-copy\n",
            "  \"\"\"Entry point for launching an IPython kernel.\n",
            "/usr/local/lib/python3.6/dist-packages/ipykernel_launcher.py:2: SettingWithCopyWarning: \n",
            "A value is trying to be set on a copy of a slice from a DataFrame.\n",
            "Try using .loc[row_indexer,col_indexer] = value instead\n",
            "\n",
            "See the caveats in the documentation: https://pandas.pydata.org/pandas-docs/stable/user_guide/indexing.html#returning-a-view-versus-a-copy\n",
            "  \n"
          ],
          "name": "stderr"
        }
      ]
    },
    {
      "cell_type": "code",
      "metadata": {
        "id": "iPwnfouiV-Yi",
        "colab_type": "code",
        "colab": {
          "base_uri": "https://localhost:8080/",
          "height": 34
        },
        "outputId": "4d9ef7af-8c60-4c22-d179-fbb88c9639f0"
      },
      "source": [
        "dummies = pd.get_dummies(x[dummy_cat], drop_first = True)\n",
        "dummies.shape"
      ],
      "execution_count": null,
      "outputs": [
        {
          "output_type": "execute_result",
          "data": {
            "text/plain": [
              "(851963, 417)"
            ]
          },
          "metadata": {
            "tags": []
          },
          "execution_count": 94
        }
      ]
    },
    {
      "cell_type": "code",
      "metadata": {
        "id": "Gja8lHNBneJB",
        "colab_type": "code",
        "colab": {
          "base_uri": "https://localhost:8080/",
          "height": 118
        },
        "outputId": "c05f72a0-fff2-40d4-a3fd-3ccd1d13a229"
      },
      "source": [
        "x.drop(dummy_cat, axis = 1, inplace = True)\n",
        "x.shape"
      ],
      "execution_count": null,
      "outputs": [
        {
          "output_type": "stream",
          "text": [
            "/usr/local/lib/python3.6/dist-packages/pandas/core/frame.py:3997: SettingWithCopyWarning: \n",
            "A value is trying to be set on a copy of a slice from a DataFrame\n",
            "\n",
            "See the caveats in the documentation: https://pandas.pydata.org/pandas-docs/stable/user_guide/indexing.html#returning-a-view-versus-a-copy\n",
            "  errors=errors,\n"
          ],
          "name": "stderr"
        },
        {
          "output_type": "execute_result",
          "data": {
            "text/plain": [
              "(851963, 2)"
            ]
          },
          "metadata": {
            "tags": []
          },
          "execution_count": 95
        }
      ]
    },
    {
      "cell_type": "code",
      "metadata": {
        "id": "lt1hTDFBnsLV",
        "colab_type": "code",
        "colab": {
          "base_uri": "https://localhost:8080/",
          "height": 34
        },
        "outputId": "d5152dda-a3ad-401a-80d1-7feeafeb7e41"
      },
      "source": [
        "x = pd.concat([x, dummies], axis = 1)\n",
        "x.shape"
      ],
      "execution_count": null,
      "outputs": [
        {
          "output_type": "execute_result",
          "data": {
            "text/plain": [
              "(851963, 419)"
            ]
          },
          "metadata": {
            "tags": []
          },
          "execution_count": 96
        }
      ]
    },
    {
      "cell_type": "code",
      "metadata": {
        "id": "zWoEB-XXoHN4",
        "colab_type": "code",
        "colab": {}
      },
      "source": [
        "import numpy as np\n",
        "from sklearn.model_selection import train_test_split\n",
        "np.random.seed(0)\n",
        "df_train, df_test = train_test_split(x, train_size = 0.8, test_size = 0.2, random_state = 100)"
      ],
      "execution_count": null,
      "outputs": []
    },
    {
      "cell_type": "code",
      "metadata": {
        "id": "FI5TPcEZrenP",
        "colab_type": "code",
        "colab": {}
      },
      "source": [
        "y_train = df_train.pop('mean_travel_time')\n",
        "X_train = df_train"
      ],
      "execution_count": null,
      "outputs": []
    },
    {
      "cell_type": "code",
      "metadata": {
        "id": "vMQD7BZRroIR",
        "colab_type": "code",
        "colab": {}
      },
      "source": [
        "y_test = df_test.pop('mean_travel_time')\n",
        "X_test = df_test"
      ],
      "execution_count": null,
      "outputs": []
    },
    {
      "cell_type": "code",
      "metadata": {
        "id": "T5gR_ynItMyY",
        "colab_type": "code",
        "colab": {
          "base_uri": "https://localhost:8080/",
          "height": 168
        },
        "outputId": "2b66927f-1e2d-4441-ed93-a6957d2396f5"
      },
      "source": [
        "from sklearn.ensemble import GradientBoostingRegressor\n",
        "regressor = GradientBoostingRegressor(n_estimators = 150,\n",
        "                                         max_depth = 2,\n",
        "                                         min_samples_split = 20,\n",
        "                                         learning_rate = 0.38,\n",
        "                                         loss = 'ls')\n",
        "# fit the regressor with x and y data \n",
        "regressor.fit(X_train, y_train)"
      ],
      "execution_count": null,
      "outputs": [
        {
          "output_type": "execute_result",
          "data": {
            "text/plain": [
              "GradientBoostingRegressor(alpha=0.9, ccp_alpha=0.0, criterion='friedman_mse',\n",
              "                          init=None, learning_rate=0.38, loss='ls', max_depth=2,\n",
              "                          max_features=None, max_leaf_nodes=None,\n",
              "                          min_impurity_decrease=0.0, min_impurity_split=None,\n",
              "                          min_samples_leaf=1, min_samples_split=20,\n",
              "                          min_weight_fraction_leaf=0.0, n_estimators=150,\n",
              "                          n_iter_no_change=None, presort='deprecated',\n",
              "                          random_state=None, subsample=1.0, tol=0.0001,\n",
              "                          validation_fraction=0.1, verbose=0, warm_start=False)"
            ]
          },
          "metadata": {
            "tags": []
          },
          "execution_count": 100
        }
      ]
    },
    {
      "cell_type": "code",
      "metadata": {
        "id": "flaoluhfxbyx",
        "colab_type": "code",
        "colab": {}
      },
      "source": [
        "y_pred = regressor.predict(X_test)"
      ],
      "execution_count": null,
      "outputs": []
    },
    {
      "cell_type": "code",
      "metadata": {
        "id": "cGgi94fCxrMJ",
        "colab_type": "code",
        "colab": {
          "base_uri": "https://localhost:8080/",
          "height": 34
        },
        "outputId": "3eecd63f-20f3-4d66-8cf3-a3942bddcb2b"
      },
      "source": [
        "from sklearn.metrics import r2_score\n",
        "r = r2_score(y_test, y_pred)\n",
        "print(r)"
      ],
      "execution_count": null,
      "outputs": [
        {
          "output_type": "stream",
          "text": [
            "0.8610141969253435\n"
          ],
          "name": "stdout"
        }
      ]
    },
    {
      "cell_type": "code",
      "metadata": {
        "id": "xwtEBHuOZvob",
        "colab_type": "code",
        "colab": {
          "base_uri": "https://localhost:8080/",
          "height": 244
        },
        "outputId": "195d2ccf-9a3f-4529-b41c-8b32f92708c6"
      },
      "source": [
        "df_train.head()"
      ],
      "execution_count": null,
      "outputs": [
        {
          "output_type": "execute_result",
          "data": {
            "text/html": [
              "<div>\n",
              "<style scoped>\n",
              "    .dataframe tbody tr th:only-of-type {\n",
              "        vertical-align: middle;\n",
              "    }\n",
              "\n",
              "    .dataframe tbody tr th {\n",
              "        vertical-align: top;\n",
              "    }\n",
              "\n",
              "    .dataframe thead th {\n",
              "        text-align: right;\n",
              "    }\n",
              "</style>\n",
              "<table border=\"1\" class=\"dataframe\">\n",
              "  <thead>\n",
              "    <tr style=\"text-align: right;\">\n",
              "      <th></th>\n",
              "      <th>distance</th>\n",
              "      <th>dstid_1</th>\n",
              "      <th>dstid_10</th>\n",
              "      <th>dstid_100</th>\n",
              "      <th>dstid_101</th>\n",
              "      <th>dstid_102</th>\n",
              "      <th>dstid_103</th>\n",
              "      <th>dstid_104</th>\n",
              "      <th>dstid_105</th>\n",
              "      <th>dstid_106</th>\n",
              "      <th>dstid_107</th>\n",
              "      <th>dstid_108</th>\n",
              "      <th>dstid_109</th>\n",
              "      <th>dstid_11</th>\n",
              "      <th>dstid_110</th>\n",
              "      <th>dstid_111</th>\n",
              "      <th>dstid_112</th>\n",
              "      <th>dstid_113</th>\n",
              "      <th>dstid_114</th>\n",
              "      <th>dstid_115</th>\n",
              "      <th>dstid_116</th>\n",
              "      <th>dstid_117</th>\n",
              "      <th>dstid_118</th>\n",
              "      <th>dstid_119</th>\n",
              "      <th>dstid_12</th>\n",
              "      <th>dstid_120</th>\n",
              "      <th>dstid_121</th>\n",
              "      <th>dstid_122</th>\n",
              "      <th>dstid_123</th>\n",
              "      <th>dstid_124</th>\n",
              "      <th>dstid_125</th>\n",
              "      <th>dstid_126</th>\n",
              "      <th>dstid_127</th>\n",
              "      <th>dstid_128</th>\n",
              "      <th>dstid_129</th>\n",
              "      <th>dstid_13</th>\n",
              "      <th>dstid_130</th>\n",
              "      <th>dstid_131</th>\n",
              "      <th>dstid_132</th>\n",
              "      <th>dstid_133</th>\n",
              "      <th>...</th>\n",
              "      <th>sourceid_84</th>\n",
              "      <th>sourceid_85</th>\n",
              "      <th>sourceid_86</th>\n",
              "      <th>sourceid_87</th>\n",
              "      <th>sourceid_88</th>\n",
              "      <th>sourceid_89</th>\n",
              "      <th>sourceid_9</th>\n",
              "      <th>sourceid_90</th>\n",
              "      <th>sourceid_91</th>\n",
              "      <th>sourceid_92</th>\n",
              "      <th>sourceid_93</th>\n",
              "      <th>sourceid_94</th>\n",
              "      <th>sourceid_95</th>\n",
              "      <th>sourceid_96</th>\n",
              "      <th>sourceid_97</th>\n",
              "      <th>sourceid_98</th>\n",
              "      <th>sourceid_99</th>\n",
              "      <th>hod_1</th>\n",
              "      <th>hod_10</th>\n",
              "      <th>hod_11</th>\n",
              "      <th>hod_12</th>\n",
              "      <th>hod_13</th>\n",
              "      <th>hod_14</th>\n",
              "      <th>hod_15</th>\n",
              "      <th>hod_16</th>\n",
              "      <th>hod_17</th>\n",
              "      <th>hod_18</th>\n",
              "      <th>hod_19</th>\n",
              "      <th>hod_2</th>\n",
              "      <th>hod_20</th>\n",
              "      <th>hod_21</th>\n",
              "      <th>hod_22</th>\n",
              "      <th>hod_23</th>\n",
              "      <th>hod_3</th>\n",
              "      <th>hod_4</th>\n",
              "      <th>hod_5</th>\n",
              "      <th>hod_6</th>\n",
              "      <th>hod_7</th>\n",
              "      <th>hod_8</th>\n",
              "      <th>hod_9</th>\n",
              "    </tr>\n",
              "  </thead>\n",
              "  <tbody>\n",
              "    <tr>\n",
              "      <th>84258</th>\n",
              "      <td>16.146140</td>\n",
              "      <td>0</td>\n",
              "      <td>0</td>\n",
              "      <td>0</td>\n",
              "      <td>0</td>\n",
              "      <td>0</td>\n",
              "      <td>0</td>\n",
              "      <td>0</td>\n",
              "      <td>0</td>\n",
              "      <td>0</td>\n",
              "      <td>0</td>\n",
              "      <td>0</td>\n",
              "      <td>0</td>\n",
              "      <td>0</td>\n",
              "      <td>0</td>\n",
              "      <td>0</td>\n",
              "      <td>0</td>\n",
              "      <td>0</td>\n",
              "      <td>0</td>\n",
              "      <td>0</td>\n",
              "      <td>0</td>\n",
              "      <td>0</td>\n",
              "      <td>0</td>\n",
              "      <td>0</td>\n",
              "      <td>0</td>\n",
              "      <td>0</td>\n",
              "      <td>0</td>\n",
              "      <td>0</td>\n",
              "      <td>0</td>\n",
              "      <td>0</td>\n",
              "      <td>0</td>\n",
              "      <td>0</td>\n",
              "      <td>0</td>\n",
              "      <td>0</td>\n",
              "      <td>0</td>\n",
              "      <td>0</td>\n",
              "      <td>0</td>\n",
              "      <td>0</td>\n",
              "      <td>0</td>\n",
              "      <td>0</td>\n",
              "      <td>...</td>\n",
              "      <td>0</td>\n",
              "      <td>0</td>\n",
              "      <td>0</td>\n",
              "      <td>0</td>\n",
              "      <td>0</td>\n",
              "      <td>0</td>\n",
              "      <td>0</td>\n",
              "      <td>0</td>\n",
              "      <td>0</td>\n",
              "      <td>0</td>\n",
              "      <td>0</td>\n",
              "      <td>0</td>\n",
              "      <td>0</td>\n",
              "      <td>0</td>\n",
              "      <td>0</td>\n",
              "      <td>0</td>\n",
              "      <td>0</td>\n",
              "      <td>0</td>\n",
              "      <td>0</td>\n",
              "      <td>0</td>\n",
              "      <td>0</td>\n",
              "      <td>0</td>\n",
              "      <td>0</td>\n",
              "      <td>0</td>\n",
              "      <td>0</td>\n",
              "      <td>0</td>\n",
              "      <td>0</td>\n",
              "      <td>0</td>\n",
              "      <td>0</td>\n",
              "      <td>0</td>\n",
              "      <td>0</td>\n",
              "      <td>0</td>\n",
              "      <td>0</td>\n",
              "      <td>0</td>\n",
              "      <td>0</td>\n",
              "      <td>0</td>\n",
              "      <td>0</td>\n",
              "      <td>0</td>\n",
              "      <td>0</td>\n",
              "      <td>0</td>\n",
              "    </tr>\n",
              "    <tr>\n",
              "      <th>156245</th>\n",
              "      <td>143.930662</td>\n",
              "      <td>0</td>\n",
              "      <td>0</td>\n",
              "      <td>0</td>\n",
              "      <td>0</td>\n",
              "      <td>0</td>\n",
              "      <td>0</td>\n",
              "      <td>0</td>\n",
              "      <td>0</td>\n",
              "      <td>0</td>\n",
              "      <td>0</td>\n",
              "      <td>0</td>\n",
              "      <td>0</td>\n",
              "      <td>0</td>\n",
              "      <td>0</td>\n",
              "      <td>0</td>\n",
              "      <td>0</td>\n",
              "      <td>0</td>\n",
              "      <td>0</td>\n",
              "      <td>0</td>\n",
              "      <td>0</td>\n",
              "      <td>0</td>\n",
              "      <td>0</td>\n",
              "      <td>0</td>\n",
              "      <td>0</td>\n",
              "      <td>0</td>\n",
              "      <td>0</td>\n",
              "      <td>0</td>\n",
              "      <td>0</td>\n",
              "      <td>0</td>\n",
              "      <td>0</td>\n",
              "      <td>0</td>\n",
              "      <td>0</td>\n",
              "      <td>0</td>\n",
              "      <td>0</td>\n",
              "      <td>0</td>\n",
              "      <td>0</td>\n",
              "      <td>0</td>\n",
              "      <td>0</td>\n",
              "      <td>0</td>\n",
              "      <td>...</td>\n",
              "      <td>0</td>\n",
              "      <td>0</td>\n",
              "      <td>0</td>\n",
              "      <td>0</td>\n",
              "      <td>0</td>\n",
              "      <td>0</td>\n",
              "      <td>0</td>\n",
              "      <td>0</td>\n",
              "      <td>0</td>\n",
              "      <td>0</td>\n",
              "      <td>0</td>\n",
              "      <td>0</td>\n",
              "      <td>0</td>\n",
              "      <td>0</td>\n",
              "      <td>0</td>\n",
              "      <td>0</td>\n",
              "      <td>0</td>\n",
              "      <td>0</td>\n",
              "      <td>0</td>\n",
              "      <td>0</td>\n",
              "      <td>0</td>\n",
              "      <td>0</td>\n",
              "      <td>0</td>\n",
              "      <td>0</td>\n",
              "      <td>0</td>\n",
              "      <td>0</td>\n",
              "      <td>0</td>\n",
              "      <td>0</td>\n",
              "      <td>0</td>\n",
              "      <td>0</td>\n",
              "      <td>1</td>\n",
              "      <td>0</td>\n",
              "      <td>0</td>\n",
              "      <td>0</td>\n",
              "      <td>0</td>\n",
              "      <td>0</td>\n",
              "      <td>0</td>\n",
              "      <td>0</td>\n",
              "      <td>0</td>\n",
              "      <td>0</td>\n",
              "    </tr>\n",
              "    <tr>\n",
              "      <th>315131</th>\n",
              "      <td>77.500863</td>\n",
              "      <td>0</td>\n",
              "      <td>0</td>\n",
              "      <td>0</td>\n",
              "      <td>0</td>\n",
              "      <td>0</td>\n",
              "      <td>0</td>\n",
              "      <td>0</td>\n",
              "      <td>0</td>\n",
              "      <td>0</td>\n",
              "      <td>0</td>\n",
              "      <td>0</td>\n",
              "      <td>0</td>\n",
              "      <td>0</td>\n",
              "      <td>0</td>\n",
              "      <td>0</td>\n",
              "      <td>0</td>\n",
              "      <td>0</td>\n",
              "      <td>0</td>\n",
              "      <td>0</td>\n",
              "      <td>0</td>\n",
              "      <td>0</td>\n",
              "      <td>0</td>\n",
              "      <td>0</td>\n",
              "      <td>0</td>\n",
              "      <td>0</td>\n",
              "      <td>0</td>\n",
              "      <td>0</td>\n",
              "      <td>0</td>\n",
              "      <td>0</td>\n",
              "      <td>0</td>\n",
              "      <td>0</td>\n",
              "      <td>0</td>\n",
              "      <td>0</td>\n",
              "      <td>0</td>\n",
              "      <td>0</td>\n",
              "      <td>0</td>\n",
              "      <td>0</td>\n",
              "      <td>0</td>\n",
              "      <td>0</td>\n",
              "      <td>...</td>\n",
              "      <td>0</td>\n",
              "      <td>0</td>\n",
              "      <td>0</td>\n",
              "      <td>0</td>\n",
              "      <td>0</td>\n",
              "      <td>0</td>\n",
              "      <td>0</td>\n",
              "      <td>0</td>\n",
              "      <td>0</td>\n",
              "      <td>0</td>\n",
              "      <td>0</td>\n",
              "      <td>0</td>\n",
              "      <td>0</td>\n",
              "      <td>0</td>\n",
              "      <td>0</td>\n",
              "      <td>0</td>\n",
              "      <td>0</td>\n",
              "      <td>0</td>\n",
              "      <td>1</td>\n",
              "      <td>0</td>\n",
              "      <td>0</td>\n",
              "      <td>0</td>\n",
              "      <td>0</td>\n",
              "      <td>0</td>\n",
              "      <td>0</td>\n",
              "      <td>0</td>\n",
              "      <td>0</td>\n",
              "      <td>0</td>\n",
              "      <td>0</td>\n",
              "      <td>0</td>\n",
              "      <td>0</td>\n",
              "      <td>0</td>\n",
              "      <td>0</td>\n",
              "      <td>0</td>\n",
              "      <td>0</td>\n",
              "      <td>0</td>\n",
              "      <td>0</td>\n",
              "      <td>0</td>\n",
              "      <td>0</td>\n",
              "      <td>0</td>\n",
              "    </tr>\n",
              "    <tr>\n",
              "      <th>717335</th>\n",
              "      <td>37.644103</td>\n",
              "      <td>0</td>\n",
              "      <td>0</td>\n",
              "      <td>0</td>\n",
              "      <td>0</td>\n",
              "      <td>0</td>\n",
              "      <td>0</td>\n",
              "      <td>0</td>\n",
              "      <td>0</td>\n",
              "      <td>0</td>\n",
              "      <td>0</td>\n",
              "      <td>0</td>\n",
              "      <td>0</td>\n",
              "      <td>0</td>\n",
              "      <td>0</td>\n",
              "      <td>0</td>\n",
              "      <td>0</td>\n",
              "      <td>0</td>\n",
              "      <td>0</td>\n",
              "      <td>0</td>\n",
              "      <td>0</td>\n",
              "      <td>0</td>\n",
              "      <td>0</td>\n",
              "      <td>0</td>\n",
              "      <td>0</td>\n",
              "      <td>0</td>\n",
              "      <td>0</td>\n",
              "      <td>0</td>\n",
              "      <td>0</td>\n",
              "      <td>0</td>\n",
              "      <td>0</td>\n",
              "      <td>0</td>\n",
              "      <td>0</td>\n",
              "      <td>0</td>\n",
              "      <td>0</td>\n",
              "      <td>0</td>\n",
              "      <td>0</td>\n",
              "      <td>0</td>\n",
              "      <td>0</td>\n",
              "      <td>0</td>\n",
              "      <td>...</td>\n",
              "      <td>0</td>\n",
              "      <td>0</td>\n",
              "      <td>0</td>\n",
              "      <td>0</td>\n",
              "      <td>0</td>\n",
              "      <td>0</td>\n",
              "      <td>0</td>\n",
              "      <td>0</td>\n",
              "      <td>0</td>\n",
              "      <td>0</td>\n",
              "      <td>0</td>\n",
              "      <td>0</td>\n",
              "      <td>0</td>\n",
              "      <td>0</td>\n",
              "      <td>0</td>\n",
              "      <td>0</td>\n",
              "      <td>0</td>\n",
              "      <td>0</td>\n",
              "      <td>0</td>\n",
              "      <td>0</td>\n",
              "      <td>0</td>\n",
              "      <td>1</td>\n",
              "      <td>0</td>\n",
              "      <td>0</td>\n",
              "      <td>0</td>\n",
              "      <td>0</td>\n",
              "      <td>0</td>\n",
              "      <td>0</td>\n",
              "      <td>0</td>\n",
              "      <td>0</td>\n",
              "      <td>0</td>\n",
              "      <td>0</td>\n",
              "      <td>0</td>\n",
              "      <td>0</td>\n",
              "      <td>0</td>\n",
              "      <td>0</td>\n",
              "      <td>0</td>\n",
              "      <td>0</td>\n",
              "      <td>0</td>\n",
              "      <td>0</td>\n",
              "    </tr>\n",
              "    <tr>\n",
              "      <th>778883</th>\n",
              "      <td>119.907351</td>\n",
              "      <td>0</td>\n",
              "      <td>0</td>\n",
              "      <td>0</td>\n",
              "      <td>0</td>\n",
              "      <td>0</td>\n",
              "      <td>0</td>\n",
              "      <td>0</td>\n",
              "      <td>0</td>\n",
              "      <td>0</td>\n",
              "      <td>0</td>\n",
              "      <td>0</td>\n",
              "      <td>0</td>\n",
              "      <td>0</td>\n",
              "      <td>0</td>\n",
              "      <td>0</td>\n",
              "      <td>0</td>\n",
              "      <td>0</td>\n",
              "      <td>0</td>\n",
              "      <td>0</td>\n",
              "      <td>0</td>\n",
              "      <td>0</td>\n",
              "      <td>0</td>\n",
              "      <td>0</td>\n",
              "      <td>0</td>\n",
              "      <td>0</td>\n",
              "      <td>0</td>\n",
              "      <td>0</td>\n",
              "      <td>0</td>\n",
              "      <td>0</td>\n",
              "      <td>0</td>\n",
              "      <td>0</td>\n",
              "      <td>0</td>\n",
              "      <td>0</td>\n",
              "      <td>0</td>\n",
              "      <td>0</td>\n",
              "      <td>0</td>\n",
              "      <td>0</td>\n",
              "      <td>0</td>\n",
              "      <td>0</td>\n",
              "      <td>...</td>\n",
              "      <td>0</td>\n",
              "      <td>0</td>\n",
              "      <td>0</td>\n",
              "      <td>0</td>\n",
              "      <td>0</td>\n",
              "      <td>0</td>\n",
              "      <td>0</td>\n",
              "      <td>0</td>\n",
              "      <td>0</td>\n",
              "      <td>0</td>\n",
              "      <td>0</td>\n",
              "      <td>0</td>\n",
              "      <td>0</td>\n",
              "      <td>0</td>\n",
              "      <td>0</td>\n",
              "      <td>0</td>\n",
              "      <td>0</td>\n",
              "      <td>0</td>\n",
              "      <td>0</td>\n",
              "      <td>0</td>\n",
              "      <td>0</td>\n",
              "      <td>0</td>\n",
              "      <td>0</td>\n",
              "      <td>0</td>\n",
              "      <td>0</td>\n",
              "      <td>1</td>\n",
              "      <td>0</td>\n",
              "      <td>0</td>\n",
              "      <td>0</td>\n",
              "      <td>0</td>\n",
              "      <td>0</td>\n",
              "      <td>0</td>\n",
              "      <td>0</td>\n",
              "      <td>0</td>\n",
              "      <td>0</td>\n",
              "      <td>0</td>\n",
              "      <td>0</td>\n",
              "      <td>0</td>\n",
              "      <td>0</td>\n",
              "      <td>0</td>\n",
              "    </tr>\n",
              "  </tbody>\n",
              "</table>\n",
              "<p>5 rows × 418 columns</p>\n",
              "</div>"
            ],
            "text/plain": [
              "          distance  dstid_1  dstid_10  dstid_100  ...  hod_6  hod_7  hod_8  hod_9\n",
              "84258    16.146140        0         0          0  ...      0      0      0      0\n",
              "156245  143.930662        0         0          0  ...      0      0      0      0\n",
              "315131   77.500863        0         0          0  ...      0      0      0      0\n",
              "717335   37.644103        0         0          0  ...      0      0      0      0\n",
              "778883  119.907351        0         0          0  ...      0      0      0      0\n",
              "\n",
              "[5 rows x 418 columns]"
            ]
          },
          "metadata": {
            "tags": []
          },
          "execution_count": 103
        }
      ]
    }
  ]
}